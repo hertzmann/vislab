{
 "metadata": {
  "name": ""
 },
 "nbformat": 3,
 "nbformat_minor": 0,
 "worksheets": [
  {
   "cells": [
    {
     "cell_type": "code",
     "collapsed": false,
     "input": [
      "%load_ext autoreload\n",
      "%autoreload 2\n",
      "import vislab.datasets\n",
      "\n",
      "images_df, objects_df = vislab.datasets.inria_person.load_dataset()\n",
      "\n",
      "n = 5\n",
      "print images_df.iloc[np.random.choice(images_df.shape[0], n, False)]\n",
      "print objects_df.iloc[np.random.choice(objects_df.shape[0], n, False)]"
     ],
     "language": "python",
     "metadata": {},
     "outputs": [
      {
       "output_type": "stream",
       "stream": "stdout",
       "text": [
        "The autoreload extension is already loaded. To reload it, use:\n",
        "  %reload_ext autoreload\n",
        "                      PASperson                             filename  height  \\\n",
        "00001077a                 False              Train/neg/00001077a.png     NaN   \n",
        "D2004-07-09_17h00m32s     False  Train/neg/D2004-07-09_17h00m32s.jpg     NaN   \n",
        "00000998a                 False              Train/neg/00000998a.png     NaN   \n",
        "00001335                  False                Test/neg/00001335.png     NaN   \n",
        "D2004-09-18_15h42m50s     False  Train/neg/D2004-09-18_15h42m50s.jpg     NaN   \n",
        "\n",
        "                       num_objects  width  split  \n",
        "00001077a                        0    NaN  Train  \n",
        "D2004-07-09_17h00m32s            0    NaN  Train  \n",
        "00000998a                        0    NaN  Train  \n",
        "00001335                         0    NaN   Test  \n",
        "D2004-09-18_15h42m50s            0    NaN  Train  \n",
        "\n",
        "[5 rows x 6 columns]"
       ]
      },
      {
       "output_type": "stream",
       "stream": "stdout",
       "text": [
        "\n",
        "                               center_x  center_y      class          label  \\\n",
        "image_id            object_id                                                 \n",
        "person_350          1               121       110  PASperson  UprightPerson   \n",
        "person_137          2               189       125  PASperson  UprightPerson   \n",
        "person_225          2               120        42  PASperson  UprightPerson   \n",
        "crop001594          3               122       208  PASperson  UprightPerson   \n",
        "person_and_bike_209 0               384       132  PASperson  UprightPerson   \n",
        "\n",
        "                               xmax  xmin  ymax  ymin  width  height  \\\n",
        "image_id            object_id                                          \n",
        "person_350          1           146    40   473    79    640     480   \n",
        "person_137          2           215   152   303   100    640     480   \n",
        "person_225          2           180    59   355    17    640     480   \n",
        "crop001594          3           149    97   358   182    762     673   \n",
        "person_and_bike_209 0           418   336   316   112    640     480   \n",
        "\n",
        "                                                        filename  split  \n",
        "image_id            object_id                                            \n",
        "person_350          1                    Test/pos/person_350.png   Test  \n",
        "person_137          2                    Test/pos/person_137.png   Test  \n",
        "person_225          2                   Train/pos/person_225.png  Train  \n",
        "crop001594          3                   Train/pos/crop001594.png  Train  \n",
        "person_and_bike_209 0          Train/pos/person_and_bike_209.png  Train  \n",
        "\n",
        "[5 rows x 12 columns]\n"
       ]
      },
      {
       "output_type": "stream",
       "stream": "stderr",
       "text": [
        "/usr/local/Cellar/python/2.7.6/Frameworks/Python.framework/Versions/2.7/lib/python2.7/site-packages/pandas/io/pytables.py:528: DeprecationWarning: openFile() is pending deprecation, use open_file() instead. You may use the pt2to3 tool to update your source code.\n",
        "  self._handle = tables.openFile(self._path, self._mode, **kwargs)\n",
        "/usr/local/Cellar/python/2.7.6/Frameworks/Python.framework/Versions/2.7/lib/python2.7/site-packages/pandas/io/pytables.py:1044: DeprecationWarning: getNode() is pending deprecation, use get_node() instead. You may use the pt2to3 tool to update your source code.\n",
        "  return self._handle.getNode(self.root, key)\n",
        "/usr/local/Cellar/python/2.7.6/Frameworks/Python.framework/Versions/2.7/lib/python2.7/site-packages/pandas/io/pytables.py:528: DeprecationWarning: openFile() is pending deprecation, use open_file() instead. You may use the pt2to3 tool to update your source code.\n",
        "  self._handle = tables.openFile(self._path, self._mode, **kwargs)\n",
        "/usr/local/Cellar/python/2.7.6/Frameworks/Python.framework/Versions/2.7/lib/python2.7/site-packages/pandas/io/pytables.py:1044: DeprecationWarning: getNode() is pending deprecation, use get_node() instead. You may use the pt2to3 tool to update your source code.\n",
        "  return self._handle.getNode(self.root, key)\n"
       ]
      }
     ],
     "prompt_number": 4
    },
    {
     "cell_type": "code",
     "collapsed": false,
     "input": [
      "images_df['PASperson'].value_counts()"
     ],
     "language": "python",
     "metadata": {},
     "outputs": [
      {
       "metadata": {},
       "output_type": "pyout",
       "prompt_number": 5,
       "text": [
        "False    1671\n",
        "True      902\n",
        "dtype: int64"
       ]
      }
     ],
     "prompt_number": 5
    },
    {
     "cell_type": "code",
     "collapsed": false,
     "input": [
      "images_df['num_objects'].value_counts()"
     ],
     "language": "python",
     "metadata": {},
     "outputs": [
      {
       "metadata": {},
       "output_type": "pyout",
       "prompt_number": 6,
       "text": [
        "0     1671\n",
        "1      455\n",
        "2      221\n",
        "3      105\n",
        "4       56\n",
        "5       36\n",
        "6       15\n",
        "7        6\n",
        "8        5\n",
        "16       1\n",
        "12       1\n",
        "10       1\n",
        "dtype: int64"
       ]
      }
     ],
     "prompt_number": 6
    }
   ],
   "metadata": {}
  }
 ]
}