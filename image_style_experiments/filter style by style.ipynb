{
 "metadata": {
  "name": ""
 },
 "nbformat": 3,
 "nbformat_minor": 0,
 "worksheets": [
  {
   "cells": [
    {
     "cell_type": "code",
     "collapsed": false,
     "input": [
      "%load_ext autoreload\n",
      "%autoreload 2\n",
      "from IPython.display import HTML\n",
      "import vislab.datasets\n",
      "import aphrodite.results\n",
      "import os\n",
      "import pandas as pd"
     ],
     "language": "python",
     "metadata": {},
     "outputs": [
      {
       "output_type": "stream",
       "stream": "stdout",
       "text": [
        "The autoreload extension is already loaded. To reload it, use:\n",
        "  %reload_ext autoreload\n"
       ]
      }
     ],
     "prompt_number": 3
    },
    {
     "cell_type": "code",
     "collapsed": false,
     "input": [
      "def top_k_for_styles(df, filter_ind, sort_columns, k=5):\n",
      "    return HTML(' '.join(\n",
      "        '<h4>{}</h4>'.format(sort_column) + ' '.join(\n",
      "            '<img src=\"{}\" width=\"210px\" />'.format(x)\n",
      "            for x in df[filter_ind].sort('pred_style_' + sort_column, ascending=False)['image_url'].iloc[:k]\n",
      "        )\n",
      "        for sort_column in sort_columns\n",
      "    ))"
     ],
     "language": "python",
     "metadata": {},
     "outputs": [],
     "prompt_number": 21
    },
    {
     "cell_type": "code",
     "collapsed": false,
     "input": [
      "def top_k_images(df, k=10):\n",
      "    return HTML(' '.join('<img src=\"{}\" width=\"210px\" />'.format(x) for x in df['image_url'].iloc[:k]))"
     ],
     "language": "python",
     "metadata": {},
     "outputs": [],
     "prompt_number": 4
    },
    {
     "cell_type": "markdown",
     "metadata": {},
     "source": [
      "## Flickr styles applied to Wikipaintings"
     ]
    },
    {
     "cell_type": "code",
     "collapsed": false,
     "input": [
      "pred_df = pd.read_hdf(\"../data/results/data_wikipaintings_style_ALL_features_['decaf_fc6']_num_test_16492_num_train_49475_num_val_16492_quadratic_False_task_clf_FROM_FLICKR.h5\", 'df')\n",
      "pred_df = pred_df[[x for x in pred_df.columns if x.startswith('pred_style_')]]\n",
      "wp_df = vislab.datasets.wikipaintings.get_df()\n",
      "wp_df = wp_df.join(vislab.datasets.wikipaintings.get_style_df())\n",
      "df = pred_df.join(wp_df)"
     ],
     "language": "python",
     "metadata": {},
     "outputs": [],
     "prompt_number": 42
    },
    {
     "cell_type": "code",
     "collapsed": false,
     "input": [
      "top_k_for_styles(\n",
      "    df, [True] * df.shape[0],\n",
      "    ['HDR', 'Bright,_Energetic', 'Ethereal', 'Horror', 'Serene', 'Macro', 'Minimal', 'Geometric_Composition', 'Sunny', 'Noir', 'Romantic', 'Soft,_Pastel', 'Vintage'], k=10)"
     ],
     "language": "python",
     "metadata": {},
     "outputs": [
      {
       "html": [
        "<h4>HDR</h4><img src=\"http://uploads5.wikipaintings.org/images/pietro-perugino/the-ceiling-with-four-medallions-1508.jpg\" width=\"210px\" /> <img src=\"http://uploads4.wikipaintings.org/images/raoul-dufy/the-casino-of-nice-1929.jpg\" width=\"210px\" /> <img src=\"http://uploads0.wikipaintings.org/images/raoul-dufy/vence-1923.jpg\" width=\"210px\" /> <img src=\"http://uploads6.wikipaintings.org/images/benozzo-gozzoli/establishment-of-the-manger-at-greccio.jpg\" width=\"210px\" /> <img src=\"http://uploads4.wikipaintings.org/images/giovanni-paolo-panini/roman-ruins-and-sculpture-1757.jpg\" width=\"210px\" /> <img src=\"http://uploads0.wikipaintings.org/images/jacopo-bellini/the-crucifixion.jpg\" width=\"210px\" /> <img src=\"http://uploads2.wikipaintings.org/images/georges-rouault/crucifixion-1937.jpg\" width=\"210px\" /> <img src=\"http://uploads3.wikipaintings.org/images/hiro-yamagata/not-detected-272407.jpg\" width=\"210px\" /> <img src=\"http://uploads2.wikipaintings.org/images/domenico-ghirlandaio/vaulting-of-the-tornabuoni-chapel-1490.jpg\" width=\"210px\" /> <img src=\"http://uploads5.wikipaintings.org/images/benozzo-gozzoli/stigmatization-of-st-francis.jpg\" width=\"210px\" /> <h4>Bright,_Energetic</h4><img src=\"http://uploads1.wikipaintings.org/images/maria-prymachenko/ukrainian-dancers-1983.jpg\" width=\"210px\" /> <img src=\"http://uploads6.wikipaintings.org/images/marc-chagall/the-dance-1951.jpg\" width=\"210px\" /> <img src=\"http://uploads0.wikipaintings.org/images/giacomo-balla/iridescent-compenetration.jpg\" width=\"210px\" /> <img src=\"http://uploads0.wikipaintings.org/images/maria-prymachenko/another-beast-has-run-into-flowers-1983.jpg\" width=\"210px\" /> <img src=\"http://uploads8.wikipaintings.org/images/maria-prymachenko/lamd-has-harnesed-a-wolf-1983.jpg\" width=\"210px\" /> <img src=\"http://uploads2.wikipaintings.org/images/maria-prymachenko/two-kites-1982.jpg\" width=\"210px\" /> <img src=\"http://uploads2.wikipaintings.org/images/karel-appel/two-young-girls-1971.jpg\" width=\"210px\" /> <img src=\"http://uploads1.wikipaintings.org/images/atsuko-tanaka/to-new-york-vancouver-2002.jpg\" width=\"210px\" /> <img src=\"http://uploads8.wikipaintings.org/images/maria-prymachenko/monkey-riding-a-four-headed-beast-1982.jpg\" width=\"210px\" /> <img src=\"http://uploads4.wikipaintings.org/images/jim-dine/four-hearts-1969.jpg\" width=\"210px\" /> <h4>Ethereal</h4><img src=\"http://uploads1.wikipaintings.org/images/odilon-redon/the-winged-man-the-fallen-angel-1880.jpg\" width=\"210px\" /> <img src=\"http://uploads1.wikipaintings.org/images/peter-paul-rubens/the-judgement-of-paris.jpg\" width=\"210px\" /> <img src=\"http://uploads2.wikipaintings.org/images/pierre-auguste-renoir/picking-flowers-in-the-field.jpg\" width=\"210px\" /> <img src=\"http://uploads8.wikipaintings.org/images/william-turner/peace.jpg\" width=\"210px\" /> <img src=\"http://uploads8.wikipaintings.org/images/rudolf-schweitzer-cumpana/carpenters-lunch-1929.jpg\" width=\"210px\" /> <img src=\"http://uploads1.wikipaintings.org/images/pietro-perugino/christ-in-pieta.jpg\" width=\"210px\" /> <img src=\"http://uploads2.wikipaintings.org/images/pierre-auguste-renoir/spring-the-four-seasons-1879.jpg\" width=\"210px\" /> <img src=\"http://uploads8.wikipaintings.org/images/iosif-iser/harlequin.jpg\" width=\"210px\" /> <img src=\"http://uploads8.wikipaintings.org/images/eugene-delacroix/two-views-of-costumes-souliotes-1825(1).jpg\" width=\"210px\" /> <img src=\"http://uploads1.wikipaintings.org/images/joshua-reynolds/theory.jpg\" width=\"210px\" /> <h4>Horror</h4><img src=\"http://uploads1.wikipaintings.org/images/leon-bakst/the-sleeping-beauty-wolf-1921.jpg\" width=\"210px\" /> <img src=\"http://uploads2.wikipaintings.org/images/ivan-albright/self-portrait-1982.jpg\" width=\"210px\" /> <img src=\"http://uploads5.wikipaintings.org/images/theo-van-doesburg/alderman-of-education-1910.jpg\" width=\"210px\" /> <img src=\"http://uploads5.wikipaintings.org/images/billy-childish/st-john-s-church-chatham-2004.jpg\" width=\"210px\" /> <img src=\"http://uploads6.wikipaintings.org/images/michelangelo/pieta.jpg\" width=\"210px\" /> <img src=\"http://uploads1.wikipaintings.org/images/marevna-marie-vorobieff/portrait-of-ossip-zadkine.jpg\" width=\"210px\" /> <img src=\"http://uploads5.wikipaintings.org/images/giovanni-battista-tiepolo/hagar-assisted-by-the-angel.jpg\" width=\"210px\" /> <img src=\"http://uploads8.wikipaintings.org/images/auguste-rodin/camille-claudel.jpg\" width=\"210px\" /> <img src=\"http://uploads1.wikipaintings.org/images/paul-cezanne/self-portrait-with-white-turbaned-detail-1882.jpg\" width=\"210px\" /> <img src=\"http://uploads5.wikipaintings.org/images/andy-warhol/cow-3.jpg\" width=\"210px\" /> <h4>Serene</h4><img src=\"http://uploads0.wikipaintings.org/images/vasily-polenov/the-mosque-in-jenin-1903.jpg\" width=\"210px\" /> <img src=\"http://uploads1.wikipaintings.org/images/childe-hassam/gloucester-harbor.jpg\" width=\"210px\" /> <img src=\"http://uploads7.wikipaintings.org/images/efim-volkov/october.jpg\" width=\"210px\" /> <img src=\"http://uploads0.wikipaintings.org/images/willard-metcalf/closing-autumn.jpg\" width=\"210px\" /> <img src=\"http://uploads8.wikipaintings.org/images/joan-miro/not_detected_227955.jpg\" width=\"210px\" /> <img src=\"http://uploads6.wikipaintings.org/images/ivan-shishkin/deadwood-1893.jpg\" width=\"210px\" /> <img src=\"http://uploads0.wikipaintings.org/images/gustave-loiseau/overcast-weather-at-nesles-la-vallee-1896.jpg\" width=\"210px\" /> <img src=\"http://uploads8.wikipaintings.org/images/willard-metcalf/waning-summer.jpg\" width=\"210px\" /> <img src=\"http://uploads1.wikipaintings.org/images/childe-hassam/hollyhocks-isles-of-shoals.jpg\" width=\"210px\" /> <img src=\"http://uploads6.wikipaintings.org/images/ferdinand-georg-waldm-ller/tree-studies-from-rome-1846.jpg\" width=\"210px\" /> <h4>Macro</h4><img src=\"http://uploads8.wikipaintings.org/images/paul-cezanne/the-three-skulls.jpg\" width=\"210px\" /> <img src=\"http://uploads6.wikipaintings.org/images/conrad-marca-relli/the-intrigue-1958.jpg\" width=\"210px\" /> <img src=\"http://uploads5.wikipaintings.org/images/paul-reed/9a-1964.jpg\" width=\"210px\" /> <img src=\"http://uploads1.wikipaintings.org/images/edouard-manet/at-the-races-1875.jpg\" width=\"210px\" /> <img src=\"http://uploads2.wikipaintings.org/images/lovis-corinth/flowers-and-wilhelmine-1920.jpg\" width=\"210px\" /> <img src=\"http://uploads1.wikipaintings.org/images/salvador-dali/tuna-fishing-1967.jpg\" width=\"210px\" /> <img src=\"http://uploads7.wikipaintings.org/images/salvador-dali/space-elephant.jpg\" width=\"210px\" /> <img src=\"http://uploads4.wikipaintings.org/images/paul-cezanne/don-quixote-view-from-the-back.jpg\" width=\"210px\" /> <img src=\"http://uploads2.wikipaintings.org/images/kateryna-bilokur/still-life-1960.jpg\" width=\"210px\" /> <img src=\"http://uploads5.wikipaintings.org/images/marc-chagall/the-wandering-jew-1925.jpg\" width=\"210px\" /> <h4>Minimal</h4><img src=\"http://uploads2.wikipaintings.org/images/paul-klee/wi-in-memoriam-1938(1).jpg\" width=\"210px\" /> <img src=\"http://uploads2.wikipaintings.org/images/walter-de-maria/seen-unseen-known-unknown.jpg\" width=\"210px\" /> <img src=\"http://uploads4.wikipaintings.org/images/antoni-t-pies/les-trois-noirs-1976.jpg\" width=\"210px\" /> <img src=\"http://uploads4.wikipaintings.org/images/joan-ponc/suite-instruments-de-tortura-1955.jpg\" width=\"210px\" /> <img src=\"http://uploads4.wikipaintings.org/images/ron-gorchov/untitled-1968.jpg\" width=\"210px\" /> <img src=\"http://uploads0.wikipaintings.org/images/mario-schifano/propaganda-1962.jpg\" width=\"210px\" /> <img src=\"http://uploads4.wikipaintings.org/images/frank-stella/river-of-ponds-i-1971.jpg\" width=\"210px\" /> <img src=\"http://uploads5.wikipaintings.org/images/park-seo-bo/ecriture-no-020719-2002.jpg\" width=\"210px\" /> <img src=\"http://uploads3.wikipaintings.org/images/william-scott/six-open-forms-1971.jpg\" width=\"210px\" /> <img src=\"http://uploads5.wikipaintings.org/images/park-seo-bo/ecriture-no-070405-2007.jpg\" width=\"210px\" /> <h4>Geometric_Composition</h4><img src=\"http://uploads3.wikipaintings.org/images/roy-lichtenstein/modular-painting-with-four-panels-6-1970(1).jpg\" width=\"210px\" /> <img src=\"http://uploads4.wikipaintings.org/images/frank-stella/star-of-persia-i-1967.jpg\" width=\"210px\" /> <img src=\"http://uploads6.wikipaintings.org/images/hans-holbein-the-younger/design-for-a-pendant.jpg\" width=\"210px\" /> <img src=\"http://uploads4.wikipaintings.org/images/pablo-picasso/study-of-cannes-1927.jpg\" width=\"210px\" /> <img src=\"http://uploads5.wikipaintings.org/images/theo-van-doesburg/leaded-glass-composition-i.jpg\" width=\"210px\" /> <img src=\"http://uploads6.wikipaintings.org/images/burhan-dogancay/three-break-ups-1977.jpg\" width=\"210px\" /> <img src=\"http://uploads1.wikipaintings.org/images/mario-sironi/the-plane.jpg\" width=\"210px\" /> <img src=\"http://uploads6.wikipaintings.org/images/pablo-picasso/crane-and-pitcher-1945.jpg\" width=\"210px\" /> <img src=\"http://uploads7.wikipaintings.org/images/jos-sobral-de-almada-negreiros/the-door-of-harmony-1957.jpg\" width=\"210px\" /> <img src=\"http://uploads2.wikipaintings.org/images/alfred-jensen/the-sun-rises-twice-per-3-per-4-1973.jpg\" width=\"210px\" /> <h4>Sunny</h4><img src=\"http://uploads4.wikipaintings.org/images/domingos-sequeira/o-milagre-de-ourique-1793.jpg\" width=\"210px\" /> <img src=\"http://uploads2.wikipaintings.org/images/salvador-dali/ascension.jpg\" width=\"210px\" /> <img src=\"http://uploads8.wikipaintings.org/images/francis-picabia/abstract-composition-1.jpg\" width=\"210px\" /> <img src=\"http://uploads8.wikipaintings.org/images/syed-haider-raza/ankuran-1987.jpg\" width=\"210px\" /> <img src=\"http://uploads0.wikipaintings.org/images/ivan-aivazovsky/sunset-over-the-golden-horn-1866.jpg\" width=\"210px\" /> <img src=\"http://uploads6.wikipaintings.org/images/ivan-aivazovsky/battle-of-sinop-1853.jpg\" width=\"210px\" /> <img src=\"http://uploads1.wikipaintings.org/images/nicholas-roerich/elijah-the-prophet-1931.jpg\" width=\"210px\" /> <img src=\"http://uploads4.wikipaintings.org/images/edvard-munch/anxiety-1894.jpg\" width=\"210px\" /> <img src=\"http://uploads5.wikipaintings.org/images/frank-stella/untitled-1967.jpg\" width=\"210px\" /> <img src=\"http://uploads0.wikipaintings.org/images/andy-warhol/flowers-1.jpg\" width=\"210px\" /> <h4>Noir</h4><img src=\"http://uploads0.wikipaintings.org/images/salvador-dali/madrid-drunk-man.jpg\" width=\"210px\" /> <img src=\"http://uploads5.wikipaintings.org/images/kansuke-yamamoto/unknown-title-1955.jpg\" width=\"210px\" /> <img src=\"http://uploads5.wikipaintings.org/images/john-mclaughlin/jmd-3-1962.jpg\" width=\"210px\" /> <img src=\"http://uploads5.wikipaintings.org/images/ernst-ludwig-kirchner/sailboats-at-fehmarn-1.jpg\" width=\"210px\" /> <img src=\"http://uploads3.wikipaintings.org/images/peter-busa/untitled-1957.jpg\" width=\"210px\" /> <img src=\"http://uploads0.wikipaintings.org/images/mark-rothko/rothko-chapel-1967.jpg\" width=\"210px\" /> <img src=\"http://uploads0.wikipaintings.org/images/dosso-dossi/portrait-of-a-man-probably-cesare-borgia-1520.jpg\" width=\"210px\" /> <img src=\"http://uploads8.wikipaintings.org/images/john-singer-sargent/sir-david-richmond.jpg\" width=\"210px\" /> <img src=\"http://uploads5.wikipaintings.org/images/m-c-escher/coast-of-amalfi.jpg\" width=\"210px\" /> <img src=\"http://uploads5.wikipaintings.org/images/john-singer-sargent/charles-deering.jpg\" width=\"210px\" /> <h4>Romantic</h4><img src=\"http://uploads4.wikipaintings.org/images/mary-cassatt/susan-comforting-the-baby-no-2.jpg\" width=\"210px\" /> <img src=\"http://uploads8.wikipaintings.org/images/vasily-tropinin/not_detected_241138(1).jpg\" width=\"210px\" /> <img src=\"http://uploads3.wikipaintings.org/images/lucian-freud/bruce-bernard-seated.jpg\" width=\"210px\" /> <img src=\"http://uploads5.wikipaintings.org/images/lucas-cranach-the-elder/christ-taking-leave-of-his-mother-1520.jpg\" width=\"210px\" /> <img src=\"http://uploads3.wikipaintings.org/images/richard-gerstl/smaragda-berg-1906.jpg\" width=\"210px\" /> <img src=\"http://uploads6.wikipaintings.org/images/william-adolphe-bouguereau/alone-in-the-world.jpg\" width=\"210px\" /> <img src=\"http://uploads5.wikipaintings.org/images/augustus-john/david-and-caspar-1912.jpg\" width=\"210px\" /> <img src=\"http://uploads5.wikipaintings.org/images/albert-anker/girl-knitting.jpg\" width=\"210px\" /> <img src=\"http://uploads2.wikipaintings.org/images/tsuguharu-foujita/at-the-kitchen.jpg\" width=\"210px\" /> <img src=\"http://uploads4.wikipaintings.org/images/william-adolphe-bouguereau/gypsy-girl-with-a-basque-drum-1867.jpg\" width=\"210px\" /> <h4>Soft,_Pastel</h4><img src=\"http://uploads7.wikipaintings.org/images/paolo-scheggi/struttura-modulare-1967.jpg\" width=\"210px\" /> <img src=\"http://uploads1.wikipaintings.org/images/william-adolphe-bouguereau/the-virgin-with-angels.jpg\" width=\"210px\" /> <img src=\"http://uploads2.wikipaintings.org/images/leon-arthur-tutundjian/d-jeuner-de-fruits.jpg\" width=\"210px\" /> <img src=\"http://uploads7.wikipaintings.org/images/antoine-pesne/the-actress-babette-cochois-1750.jpg\" width=\"210px\" /> <img src=\"http://uploads6.wikipaintings.org/images/carlos-merida/el-dios-del-fuego-1948.jpg\" width=\"210px\" /> <img src=\"http://uploads8.wikipaintings.org/images/marc-chagall/burlesque-and-circus-1985.jpg\" width=\"210px\" /> <img src=\"http://uploads4.wikipaintings.org/images/raphael-kirchner/leda-and-the-swan.jpg\" width=\"210px\" /> <img src=\"http://uploads4.wikipaintings.org/images/fernando-botero/the-house-of-amanda-ramirez.jpg\" width=\"210px\" /> <img src=\"http://uploads2.wikipaintings.org/images/katsushika-hokusai/morning-glories-in-flowers-and-buds-1832.jpg\" width=\"210px\" /> <img src=\"http://uploads8.wikipaintings.org/images/rene-bertholo/int-rieurs-1978.jpg\" width=\"210px\" /> <h4>Vintage</h4><img src=\"http://uploads8.wikipaintings.org/images/walter-battiss/fragments-1976.jpg\" width=\"210px\" /> <img src=\"http://uploads7.wikipaintings.org/images/raphael-kirchner/hearst-s-sunday-american-1917.jpg\" width=\"210px\" /> <img src=\"http://uploads6.wikipaintings.org/images/eva-hesse/repetition-nineteen-i-1967.jpg\" width=\"210px\" /> <img src=\"http://uploads7.wikipaintings.org/images/salvador-dali/face-of-mae-west-which-may-be-used-as-an-apartment.jpg\" width=\"210px\" /> <img src=\"http://uploads6.wikipaintings.org/images/rene-magritte/the-empty-mask-1928(1).jpg\" width=\"210px\" /> <img src=\"http://uploads1.wikipaintings.org/images/giorgio-morandi/still-life-1949.jpg\" width=\"210px\" /> <img src=\"http://uploads8.wikipaintings.org/images/anthony-van-dyck/sheet-of-studies-1635.jpg\" width=\"210px\" /> <img src=\"http://uploads7.wikipaintings.org/images/raphael-kirchner/girls-between-brown-green-borders-1901.jpg\" width=\"210px\" /> <img src=\"http://uploads6.wikipaintings.org/images/raphael-kirchner/street-flowers-1899.jpg\" width=\"210px\" /> <img src=\"http://uploads5.wikipaintings.org/images/ad-reinhardt/a-page-by-ad-reinhardt.jpg\" width=\"210px\" />"
       ],
       "metadata": {},
       "output_type": "pyout",
       "prompt_number": 43,
       "text": [
        "<IPython.core.display.HTML at 0x131e31150>"
       ]
      }
     ],
     "prompt_number": 43
    },
    {
     "cell_type": "markdown",
     "metadata": {},
     "source": [
      "## Wikipaintings styles applied to Flickr"
     ]
    },
    {
     "cell_type": "code",
     "collapsed": false,
     "input": [
      "results_df, preds_panel = aphrodite.results.load_pred_results(\n",
      "    'wp_on_flickr_oct30', os.path.expanduser('~/work/aphrodite/data/results2'),\n",
      "    multiclass=True, force=False)\n",
      "pred_df = preds_panel.minor_xs('decaf_fc6 False vw')\n",
      "pred_df = pred_df[[x for x in pred_df.columns if x.startswith('pred_')]]\n",
      "pred_df = pred_df[[x for x in pred_df.columns if x.startswith('pred_')]]\n",
      "\n",
      "flickr_df = vislab.datasets.flickr.load_flickr_df()\n",
      "df2 = flickr_df.join(pred_df)"
     ],
     "language": "python",
     "metadata": {},
     "outputs": [
      {
       "output_type": "stream",
       "stream": "stdout",
       "text": [
        "Loaded from cache: 1 records\n"
       ]
      }
     ],
     "prompt_number": 33
    },
    {
     "cell_type": "code",
     "collapsed": false,
     "input": [
      "top_k_for_styles(\n",
      "    df2, [True] * df.shape[0],\n",
      "    ['Abstract_Art', 'Abstract_Expressionism', 'Neoclassicism', 'Color_Field_Painting', 'Cubism',\n",
      "     'Early_Renaissance', 'High_Renaissance', 'Impressionism', 'Minimalism', 'Surrealism', 'Realism', 'Rococo', 'Pop_Art'], k=10)"
     ],
     "language": "python",
     "metadata": {},
     "outputs": [
      {
       "html": [
        "<h4>Abstract_Art</h4><img src=\"http://farm4.staticflickr.com/3690/9580561230_5fff8461ef.jpg\" width=\"210px\" /> <img src=\"http://farm6.staticflickr.com/5544/9571762262_4de71022d3.jpg\" width=\"210px\" /> <img src=\"http://farm6.staticflickr.com/5340/9423830998_61c919666e.jpg\" width=\"210px\" /> <img src=\"http://farm4.staticflickr.com/3805/8993988102_b18bd70e09.jpg\" width=\"210px\" /> <img src=\"http://farm9.staticflickr.com/8555/8707751157_fba721131f.jpg\" width=\"210px\" /> <img src=\"http://farm8.staticflickr.com/7366/9407448334_ef09b6c591.jpg\" width=\"210px\" /> <img src=\"http://farm8.staticflickr.com/7344/9369831102_b069d9dc6e.jpg\" width=\"210px\" /> <img src=\"http://farm3.staticflickr.com/2879/9277031594_ee342c090c.jpg\" width=\"210px\" /> <img src=\"http://farm4.staticflickr.com/3751/9481714026_a312e73eaa.jpg\" width=\"210px\" /> <img src=\"http://farm8.staticflickr.com/7381/8717563227_ac72094a5b.jpg\" width=\"210px\" /> <h4>Abstract_Expressionism</h4><img src=\"http://farm8.staticflickr.com/7444/9452260058_7d785c459d.jpg\" width=\"210px\" /> <img src=\"http://farm8.staticflickr.com/7428/9187988873_79ac016b72.jpg\" width=\"210px\" /> <img src=\"http://farm4.staticflickr.com/3633/3655520123_cfd1f02dcb.jpg\" width=\"210px\" /> <img src=\"http://farm4.staticflickr.com/3798/9254075827_0b65ae2012.jpg\" width=\"210px\" /> <img src=\"http://farm6.staticflickr.com/5470/9524382953_4a32edc811.jpg\" width=\"210px\" /> <img src=\"http://farm3.staticflickr.com/2849/9509924150_6667f39ea1.jpg\" width=\"210px\" /> <img src=\"http://farm8.staticflickr.com/7390/9538430754_d2b4964f84.jpg\" width=\"210px\" /> <img src=\"http://farm8.staticflickr.com/7400/9467953954_5edb0857e0.jpg\" width=\"210px\" /> <img src=\"http://farm4.staticflickr.com/3800/9483606092_7c56f16cdb.jpg\" width=\"210px\" /> <img src=\"http://farm3.staticflickr.com/2872/9153428782_3d37d84261.jpg\" width=\"210px\" /> <h4>Neoclassicism</h4><img src=\"http://farm8.staticflickr.com/7292/9486216604_5ce819d2fa.jpg\" width=\"210px\" /> <img src=\"http://farm3.staticflickr.com/2808/9398192293_f0e455359a.jpg\" width=\"210px\" /> <img src=\"http://farm8.staticflickr.com/7396/9502850641_afe22e8439.jpg\" width=\"210px\" /> <img src=\"http://farm4.staticflickr.com/3833/9203881211_08f3beb356.jpg\" width=\"210px\" /> <img src=\"http://farm3.staticflickr.com/2576/3668098861_d2362a7c12.jpg\" width=\"210px\" /> <img src=\"http://farm4.staticflickr.com/3093/2390793775_5abc822841.jpg\" width=\"210px\" /> <img src=\"http://farm4.staticflickr.com/3074/2651338121_afc409b132.jpg\" width=\"210px\" /> <img src=\"http://farm8.staticflickr.com/7415/9412666195_6fd3d56232.jpg\" width=\"210px\" /> <img src=\"http://farm8.staticflickr.com/7454/9360563078_cb73779891.jpg\" width=\"210px\" /> <img src=\"http://farm3.staticflickr.com/2849/9561518322_a42ff33c03.jpg\" width=\"210px\" /> <h4>Color_Field_Painting</h4><img src=\"http://farm3.staticflickr.com/2873/9567081841_784ebe6e95.jpg\" width=\"210px\" /> <img src=\"http://farm8.staticflickr.com/7421/8724959225_e9c1bbc228.jpg\" width=\"210px\" /> <img src=\"http://farm3.staticflickr.com/2888/9513460769_97051dd8bc.jpg\" width=\"210px\" /> <img src=\"http://farm8.staticflickr.com/7432/9243695620_a9e39d1f32.jpg\" width=\"210px\" /> <img src=\"http://farm4.staticflickr.com/3830/9503108498_7db45aea16.jpg\" width=\"210px\" /> <img src=\"http://farm6.staticflickr.com/5322/9304416920_8be213b161.jpg\" width=\"210px\" /> <img src=\"http://farm4.staticflickr.com/3763/9397785403_3eacddd002.jpg\" width=\"210px\" /> <img src=\"http://farm9.staticflickr.com/8529/8636948356_07fb5d46de.jpg\" width=\"210px\" /> <img src=\"http://farm4.staticflickr.com/3710/9112998469_bbfde6255d.jpg\" width=\"210px\" /> <img src=\"http://farm8.staticflickr.com/7404/9203481258_75b72e9355.jpg\" width=\"210px\" /> <h4>Cubism</h4><img src=\"http://farm4.staticflickr.com/3743/9494469836_677700ebd3.jpg\" width=\"210px\" /> <img src=\"http://farm3.staticflickr.com/2851/9536513142_923e781aa6.jpg\" width=\"210px\" /> <img src=\"http://farm6.staticflickr.com/5539/9594946997_7d60f31444.jpg\" width=\"210px\" /> <img src=\"http://farm4.staticflickr.com/3677/9429709645_431309ca8d.jpg\" width=\"210px\" /> <img src=\"http://farm9.staticflickr.com/8260/8710602334_3ff6238480.jpg\" width=\"210px\" /> <img src=\"http://farm4.staticflickr.com/3749/9252876194_b63951b12a.jpg\" width=\"210px\" /> <img src=\"http://farm3.staticflickr.com/2890/9324206880_8eb091c44a.jpg\" width=\"210px\" /> <img src=\"http://farm4.staticflickr.com/3834/9496010513_f0bef95d10.jpg\" width=\"210px\" /> <img src=\"http://farm6.staticflickr.com/5506/9526121065_f88dcdb046.jpg\" width=\"210px\" /> <img src=\"http://farm8.staticflickr.com/7300/9557929866_830f776f46.jpg\" width=\"210px\" /> <h4>Early_Renaissance</h4><img src=\"http://farm6.staticflickr.com/5506/9562462431_570eda5ab8.jpg\" width=\"210px\" /> <img src=\"http://farm8.staticflickr.com/7343/9481191632_7f27013995.jpg\" width=\"210px\" /> <img src=\"http://farm6.staticflickr.com/5550/9538023565_2450e38552.jpg\" width=\"210px\" /> <img src=\"http://farm4.staticflickr.com/3723/9571504126_a07ecf8b55.jpg\" width=\"210px\" /> <img src=\"http://farm4.staticflickr.com/3714/9463144440_7620731b91.jpg\" width=\"210px\" /> <img src=\"http://farm3.staticflickr.com/2856/9454918928_57a01fa1f3.jpg\" width=\"210px\" /> <img src=\"http://farm4.staticflickr.com/3731/9311614809_cb738577bf.jpg\" width=\"210px\" /> <img src=\"http://farm4.staticflickr.com/3665/9491406256_092a280132.jpg\" width=\"210px\" /> <img src=\"http://farm8.staticflickr.com/7459/9040181053_1acaa28da5.jpg\" width=\"210px\" /> <img src=\"http://farm8.staticflickr.com/7430/9539539530_8e5373aa6c.jpg\" width=\"210px\" /> <h4>High_Renaissance</h4><img src=\"http://farm4.staticflickr.com/3665/9491406256_092a280132.jpg\" width=\"210px\" /> <img src=\"http://farm3.staticflickr.com/2852/9464200409_b1d4d92635.jpg\" width=\"210px\" /> <img src=\"http://farm8.staticflickr.com/7400/9510939423_9b0f6b7ac1.jpg\" width=\"210px\" /> <img src=\"http://farm4.staticflickr.com/3800/9493737289_87053f494a.jpg\" width=\"210px\" /> <img src=\"http://farm3.staticflickr.com/2828/9405636238_ae64aa6bd1.jpg\" width=\"210px\" /> <img src=\"http://farm3.staticflickr.com/2821/9507114647_1d1425b305.jpg\" width=\"210px\" /> <img src=\"http://farm3.staticflickr.com/2849/9554499651_dcdd0da923.jpg\" width=\"210px\" /> <img src=\"http://farm6.staticflickr.com/5325/9314970289_369c71ce8b.jpg\" width=\"210px\" /> <img src=\"http://farm4.staticflickr.com/3600/3465224373_8c166e3465.jpg\" width=\"210px\" /> <img src=\"http://farm3.staticflickr.com/2864/9577948292_2c92354dab.jpg\" width=\"210px\" /> <h4>Impressionism</h4><img src=\"http://farm4.staticflickr.com/3712/9294422900_9489dc2a39.jpg\" width=\"210px\" /> <img src=\"http://farm9.staticflickr.com/8389/8580081829_f3d52927e0.jpg\" width=\"210px\" /> <img src=\"http://farm6.staticflickr.com/5533/9462031233_fd3b638192.jpg\" width=\"210px\" /> <img src=\"http://farm4.staticflickr.com/3772/9035202915_af9b470a8c.jpg\" width=\"210px\" /> <img src=\"http://farm4.staticflickr.com/3829/9513027271_d1fb2dabc6.jpg\" width=\"210px\" /> <img src=\"http://farm9.staticflickr.com/8081/8380832103_0558770efd.jpg\" width=\"210px\" /> <img src=\"http://farm8.staticflickr.com/7409/9574349942_4ff674ec2b.jpg\" width=\"210px\" /> <img src=\"http://farm6.staticflickr.com/5346/8947885208_a0b2b41fef.jpg\" width=\"210px\" /> <img src=\"http://farm9.staticflickr.com/8113/8657143570_581062e494.jpg\" width=\"210px\" /> <img src=\"http://farm8.staticflickr.com/7319/9583722788_61c6f3eacc.jpg\" width=\"210px\" /> <h4>Minimalism</h4><img src=\"http://farm6.staticflickr.com/5491/9343739366_396160de3a.jpg\" width=\"210px\" /> <img src=\"http://farm6.staticflickr.com/5550/9526534581_4ab237a823.jpg\" width=\"210px\" /> <img src=\"http://farm3.staticflickr.com/2820/8962806886_94b57ba78e.jpg\" width=\"210px\" /> <img src=\"http://farm3.staticflickr.com/2831/9345157601_e9f145dca1.jpg\" width=\"210px\" /> <img src=\"http://farm4.staticflickr.com/3767/9030328830_c995942dab.jpg\" width=\"210px\" /> <img src=\"http://farm8.staticflickr.com/7287/8737531827_5809bbd140.jpg\" width=\"210px\" /> <img src=\"http://farm4.staticflickr.com/3784/9229926712_58117e32ac.jpg\" width=\"210px\" /> <img src=\"http://farm4.staticflickr.com/3833/9048606270_e7cbfdc7cd.jpg\" width=\"210px\" /> <img src=\"http://farm3.staticflickr.com/2875/8905748240_63698f7b16.jpg\" width=\"210px\" /> <img src=\"http://farm3.staticflickr.com/2878/9114892127_b4398f8782.jpg\" width=\"210px\" /> <h4>Surrealism</h4><img src=\"http://farm6.staticflickr.com/5507/9135014637_c49a7997c0.jpg\" width=\"210px\" /> <img src=\"http://farm8.staticflickr.com/7417/9599241301_f35ba8aeec.jpg\" width=\"210px\" /> <img src=\"http://farm3.staticflickr.com/2843/8968298019_6b7422302f.jpg\" width=\"210px\" /> <img src=\"http://farm9.staticflickr.com/8364/8408823195_c4c5ff2d24.jpg\" width=\"210px\" /> <img src=\"http://farm6.staticflickr.com/5532/9232143381_b1ceecf284.jpg\" width=\"210px\" /> <img src=\"http://farm6.staticflickr.com/5496/9458944239_c2127b13d9.jpg\" width=\"210px\" /> <img src=\"http://farm8.staticflickr.com/7253/8169986684_4650e7d54d.jpg\" width=\"210px\" /> <img src=\"http://farm9.staticflickr.com/8372/8392466359_b73e28cf37.jpg\" width=\"210px\" /> <img src=\"http://farm4.staticflickr.com/3097/2849415825_520cd0ebda.jpg\" width=\"210px\" /> <img src=\"http://farm4.staticflickr.com/3137/3317407532_6b1923407e.jpg\" width=\"210px\" /> <h4>Realism</h4><img src=\"http://farm6.staticflickr.com/5340/9461638666_a9ca011dae.jpg\" width=\"210px\" /> <img src=\"http://farm9.staticflickr.com/8389/8580081829_f3d52927e0.jpg\" width=\"210px\" /> <img src=\"http://farm8.staticflickr.com/7410/9230467727_28deffb063.jpg\" width=\"210px\" /> <img src=\"http://farm6.staticflickr.com/5502/9465189873_6f649159dd.jpg\" width=\"210px\" /> <img src=\"http://farm9.staticflickr.com/8250/8480173940_30d13bd210.jpg\" width=\"210px\" /> <img src=\"http://farm8.staticflickr.com/7416/9600151668_58ddfdce89.jpg\" width=\"210px\" /> <img src=\"http://farm3.staticflickr.com/2864/9208823136_1d089bf1d0.jpg\" width=\"210px\" /> <img src=\"http://farm4.staticflickr.com/3692/9358537468_993ae28f47.jpg\" width=\"210px\" /> <img src=\"http://farm7.staticflickr.com/6037/5910243148_fa4f21fb3d.jpg\" width=\"210px\" /> <img src=\"http://farm9.staticflickr.com/8474/8128789065_30dfa670a0.jpg\" width=\"210px\" /> <h4>Rococo</h4><img src=\"http://farm8.staticflickr.com/7303/9231474431_c7c78f7deb.jpg\" width=\"210px\" /> <img src=\"http://farm4.staticflickr.com/3599/3325354123_99fc2def3c.jpg\" width=\"210px\" /> <img src=\"http://farm5.staticflickr.com/4098/4799682940_c35be88fde.jpg\" width=\"210px\" /> <img src=\"http://farm9.staticflickr.com/8529/8633092894_99b137a6d8.jpg\" width=\"210px\" /> <img src=\"http://farm9.staticflickr.com/8344/8199360036_e4b1ac2fee.jpg\" width=\"210px\" /> <img src=\"http://farm9.staticflickr.com/8450/8052565510_9e28f5b15d.jpg\" width=\"210px\" /> <img src=\"http://farm4.staticflickr.com/3751/9347421532_8cd39143b5.jpg\" width=\"210px\" /> <img src=\"http://farm3.staticflickr.com/2837/9568844520_ff0e6f83b1.jpg\" width=\"210px\" /> <img src=\"http://farm4.staticflickr.com/3023/5823780088_e30c0149cd.jpg\" width=\"210px\" /> <img src=\"http://farm4.staticflickr.com/3807/9516575532_73fdb8ba81.jpg\" width=\"210px\" /> <h4>Pop_Art</h4><img src=\"http://farm4.staticflickr.com/3701/9303575986_d2598fcd51.jpg\" width=\"210px\" /> <img src=\"http://farm4.staticflickr.com/3827/9573979575_bf9153cf7f.jpg\" width=\"210px\" /> <img src=\"http://farm8.staticflickr.com/7327/9494191736_9ed2c251fd.jpg\" width=\"210px\" /> <img src=\"http://farm4.staticflickr.com/3755/9546811123_3f35cb9f28.jpg\" width=\"210px\" /> <img src=\"http://farm4.staticflickr.com/3746/9580880482_7935f2cc3f.jpg\" width=\"210px\" /> <img src=\"http://farm8.staticflickr.com/7444/9192361388_ebcd38d716.jpg\" width=\"210px\" /> <img src=\"http://farm4.staticflickr.com/3673/9579511818_1b3fd63bea.jpg\" width=\"210px\" /> <img src=\"http://farm3.staticflickr.com/2853/9492885307_635e2af5e6.jpg\" width=\"210px\" /> <img src=\"http://farm4.staticflickr.com/3809/9527174622_be11b4503a.jpg\" width=\"210px\" /> <img src=\"http://farm4.staticflickr.com/3667/9574997111_5898a9d3ac.jpg\" width=\"210px\" />"
       ],
       "metadata": {},
       "output_type": "pyout",
       "prompt_number": 40,
       "text": [
        "<IPython.core.display.HTML at 0x145ebab50>"
       ]
      }
     ],
     "prompt_number": 40
    }
   ],
   "metadata": {}
  }
 ]
}