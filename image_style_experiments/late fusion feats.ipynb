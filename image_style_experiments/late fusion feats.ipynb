{
 "metadata": {
  "name": "",
  "signature": "sha256:892a5789322a163977eadbaeebab3f412a15a0fb885d1d2524aa4feb0db9f93b"
 },
 "nbformat": 3,
 "nbformat_minor": 0,
 "worksheets": [
  {
   "cells": [
    {
     "cell_type": "code",
     "collapsed": false,
     "input": [
      "%load_ext autoreload\n",
      "%autoreload 2\n",
      "import os\n",
      "import re\n",
      "import pandas as pd\n",
      "\n",
      "import vislab\n",
      "import vislab.vw3\n",
      "import vislab.datasets\n",
      "import vislab.results\n",
      "import vislab._results"
     ],
     "language": "python",
     "metadata": {},
     "outputs": [
      {
       "output_type": "stream",
       "stream": "stdout",
       "text": [
        "The autoreload extension is already loaded. To reload it, use:\n",
        "  %reload_ext autoreload\n"
       ]
      }
     ],
     "prompt_number": 8
    },
    {
     "cell_type": "code",
     "collapsed": false,
     "input": [
      "collection_name = 'flickr_mar23'\n",
      "results_df, preds_panel = vislab._results.load_pred_results(\n",
      "        collection_name, os.path.expanduser('~/work/vislab-git/data/results'),\n",
      "        multiclass=True, force=False)"
     ],
     "language": "python",
     "metadata": {},
     "outputs": [
      {
       "output_type": "stream",
       "stream": "stdout",
       "text": [
        "Loaded from cache: 3 records\n"
       ]
      }
     ],
     "prompt_number": 11
    },
    {
     "cell_type": "code",
     "collapsed": false,
     "input": [
      "def write_preds_as_feat(dataset_name, collection_name):\n",
      "    results_df, preds_panel = vislab._results.load_pred_results(\n",
      "        collection_name, os.path.expanduser('~/work/vislab-git/data/results'),\n",
      "        multiclass=True, force=False)\n",
      "    pred_prefix = 'pred'\n",
      "    \n",
      "    good_items = [x for x in preds_panel.items if x.startswith(pred_prefix)]\n",
      "    dfs = []\n",
      "    all_preds_ever_df = pd.DataFrame()\n",
      "    for item in good_items:\n",
      "        df = preds_panel[item].copy()\n",
      "        df.columns = ['{}_{}'.format(item, x) for x in df.columns]\n",
      "        all_preds_ever_df = all_preds_ever_df.join(df, how='outer')\n",
      "    all_preds_ever_df = all_preds_ever_df.astype(float)\n",
      "    df = all_preds_ever_df.fillna(all_preds_ever_df.mean())\n",
      "    # Standardize\n",
      "    df = (df - df.values.mean(0)) / df.values.std(0)\n",
      "    print df.info()\n",
      "    \n",
      "    output_filename = '{}/{}/fusion_{}_all.txt.gz'.format(\n",
      "        vislab.config['paths']['feats'], dataset_name, collection_name)\n",
      "    vislab.vw3.write_data_in_vw_format(\n",
      "        df, 'fusion_{}'.format(collection_name), output_filename)\n",
      "    \n",
      "def write_preds_as_feat_single_feat(dataset_name, collection_name, feat_name):\n",
      "    results_df, preds_panel = vislab._results.load_pred_results(\n",
      "        collection_name, os.path.expanduser('~/work/vislab-git/data/results'),\n",
      "        multiclass=True, force=False)\n",
      "    preds_df = preds_panel.minor_xs(feat_name)\n",
      "    pred_prefix = 'pred'\n",
      "    good_items = [x for x in preds_df.columns if x.startswith(pred_prefix)]\n",
      "    all_preds_ever_df = preds_df[good_items].astype(float)\n",
      "    df = all_preds_ever_df.fillna(all_preds_ever_df.mean())\n",
      "    # Standardize\n",
      "    df = (df - df.values.mean(0)) / df.values.std(0)\n",
      "    print df.info()\n",
      "    \n",
      "    output_filename = '{}/{}/fusion_{}.txt.gz'.format(\n",
      "        vislab.config['paths']['feats'], dataset_name, collection_name)\n",
      "    vislab.vw3.write_data_in_vw_format(\n",
      "        df, 'fusion_{}'.format(collection_name), output_filename)"
     ],
     "language": "python",
     "metadata": {},
     "outputs": [],
     "prompt_number": 43
    },
    {
     "cell_type": "code",
     "collapsed": false,
     "input": [
      "write_preds_as_feat('ava_style', 'ava_style_oct22')"
     ],
     "language": "python",
     "metadata": {},
     "outputs": [
      {
       "output_type": "stream",
       "stream": "stdout",
       "text": [
        "Loaded from cache: 8 records\n",
        "(13843, 112)"
       ]
      },
      {
       "output_type": "stream",
       "stream": "stdout",
       "text": [
        "\n"
       ]
      }
     ],
     "prompt_number": 7
    },
    {
     "cell_type": "code",
     "collapsed": false,
     "input": [
      "write_preds_as_feat('flickr', 'flickr_mar23')"
     ],
     "language": "python",
     "metadata": {},
     "outputs": [
      {
       "output_type": "stream",
       "stream": "stdout",
       "text": [
        "Loaded from cache: 3 records\n",
        "<class 'pandas.core.frame.DataFrame'>\n",
        "Index: 80000 entries, 10000032526 to 9999123683\n",
        "Data columns (total 60 columns):\n",
        "pred_style_Bokeh_caffe_fc6 None vw                    80000 non-null float64\n",
        "pred_style_Bokeh_caffe_fc7 None vw                    80000 non-null float64\n",
        "pred_style_Bokeh_mc_bit None vw                       80000 non-null float64\n",
        "pred_style_Bright_caffe_fc6 None vw                   80000 non-null float64\n",
        "pred_style_Bright_caffe_fc7 None vw                   80000 non-null float64\n",
        "pred_style_Bright_mc_bit None vw                      80000 non-null float64\n",
        "pred_style_Depth_of_Field_caffe_fc6 None vw           80000 non-null float64\n",
        "pred_style_Depth_of_Field_caffe_fc7 None vw           80000 non-null float64\n",
        "pred_style_Depth_of_Field_mc_bit None vw              80000 non-null float64\n",
        "pred_style_Detailed_caffe_fc6 None vw                 80000 non-null float64\n",
        "pred_style_Detailed_caffe_fc7 None vw                 80000 non-null float64\n",
        "pred_style_Detailed_mc_bit None vw                    80000 non-null float64\n",
        "pred_style_Ethereal_caffe_fc6 None vw                 80000 non-null float64\n",
        "pred_style_Ethereal_caffe_fc7 None vw                 80000 non-null float64\n",
        "pred_style_Ethereal_mc_bit None vw                    80000 non-null float64\n",
        "pred_style_Geometric_Composition_caffe_fc6 None vw    80000 non-null float64\n",
        "pred_style_Geometric_Composition_caffe_fc7 None vw    80000 non-null float64\n",
        "pred_style_Geometric_Composition_mc_bit None vw       80000 non-null float64\n",
        "pred_style_HDR_caffe_fc6 None vw                      80000 non-null float64\n",
        "pred_style_HDR_caffe_fc7 None vw                      80000 non-null float64\n",
        "pred_style_HDR_mc_bit None vw                         80000 non-null float64\n",
        "pred_style_Hazy_caffe_fc6 None vw                     80000 non-null float64\n",
        "pred_style_Hazy_caffe_fc7 None vw                     80000 non-null float64\n",
        "pred_style_Hazy_mc_bit None vw                        80000 non-null float64\n",
        "pred_style_Horror_caffe_fc6 None vw                   80000 non-null float64\n",
        "pred_style_Horror_caffe_fc7 None vw                   80000 non-null float64\n",
        "pred_style_Horror_mc_bit None vw                      80000 non-null float64\n",
        "pred_style_Long_Exposure_caffe_fc6 None vw            80000 non-null float64\n",
        "pred_style_Long_Exposure_caffe_fc7 None vw            80000 non-null float64\n",
        "pred_style_Long_Exposure_mc_bit None vw               80000 non-null float64\n",
        "pred_style_Macro_caffe_fc6 None vw                    80000 non-null float64\n",
        "pred_style_Macro_caffe_fc7 None vw                    80000 non-null float64\n",
        "pred_style_Macro_mc_bit None vw                       80000 non-null float64\n",
        "pred_style_Melancholy_caffe_fc6 None vw               80000 non-null float64\n",
        "pred_style_Melancholy_caffe_fc7 None vw               80000 non-null float64\n",
        "pred_style_Melancholy_mc_bit None vw                  80000 non-null float64\n",
        "pred_style_Minimal_caffe_fc6 None vw                  80000 non-null float64\n",
        "pred_style_Minimal_caffe_fc7 None vw                  80000 non-null float64\n",
        "pred_style_Minimal_mc_bit None vw                     80000 non-null float64\n",
        "pred_style_Noir_caffe_fc6 None vw                     80000 non-null float64\n",
        "pred_style_Noir_caffe_fc7 None vw                     80000 non-null float64\n",
        "pred_style_Noir_mc_bit None vw                        80000 non-null float64\n",
        "pred_style_Pastel_caffe_fc6 None vw                   80000 non-null float64\n",
        "pred_style_Pastel_caffe_fc7 None vw                   80000 non-null float64\n",
        "pred_style_Pastel_mc_bit None vw                      80000 non-null float64\n",
        "pred_style_Romantic_caffe_fc6 None vw                 80000 non-null float64\n",
        "pred_style_Romantic_caffe_fc7 None vw                 80000 non-null float64\n",
        "pred_style_Romantic_mc_bit None vw                    80000 non-null float64\n",
        "pred_style_Serene_caffe_fc6 None vw                   80000 non-null float64\n",
        "pred_style_Serene_caffe_fc7 None vw                   80000 non-null float64\n",
        "pred_style_Serene_mc_bit None vw                      80000 non-null float64\n",
        "pred_style_Sunny_caffe_fc6 None vw                    80000 non-null float64\n",
        "pred_style_Sunny_caffe_fc7 None vw                    80000 non-null float64\n",
        "pred_style_Sunny_mc_bit None vw                       80000 non-null float64\n",
        "pred_style_Texture_caffe_fc6 None vw                  80000 non-null float64\n",
        "pred_style_Texture_caffe_fc7 None vw                  80000 non-null float64\n",
        "pred_style_Texture_mc_bit None vw                     80000 non-null float64\n",
        "pred_style_Vintage_caffe_fc6 None vw                  80000 non-null float64\n",
        "pred_style_Vintage_caffe_fc7 None vw                  80000 non-null float64\n",
        "pred_style_Vintage_mc_bit None vw                     80000 non-null float64\n",
        "dtypes: float64(60)"
       ]
      },
      {
       "output_type": "stream",
       "stream": "stdout",
       "text": [
        "None\n"
       ]
      }
     ],
     "prompt_number": 44
    },
    {
     "cell_type": "code",
     "collapsed": false,
     "input": [
      "write_preds_as_feat_single_feat('flickr', 'flickr_mar23', 'caffe_fc7 None vw')"
     ],
     "language": "python",
     "metadata": {},
     "outputs": [
      {
       "output_type": "stream",
       "stream": "stdout",
       "text": [
        "Loaded from cache: 3 records\n",
        "<class 'pandas.core.frame.DataFrame'>\n",
        "Index: 80000 entries, 10000032526 to 9999123683\n",
        "Data columns (total 20 columns):\n",
        "pred_style_Bokeh                    80000 non-null float64\n",
        "pred_style_Bright                   80000 non-null float64\n",
        "pred_style_Depth_of_Field           80000 non-null float64\n",
        "pred_style_Detailed                 80000 non-null float64\n",
        "pred_style_Ethereal                 80000 non-null float64\n",
        "pred_style_Geometric_Composition    80000 non-null float64\n",
        "pred_style_HDR                      80000 non-null float64\n",
        "pred_style_Hazy                     80000 non-null float64\n",
        "pred_style_Horror                   80000 non-null float64\n",
        "pred_style_Long_Exposure            80000 non-null float64\n",
        "pred_style_Macro                    80000 non-null float64\n",
        "pred_style_Melancholy               80000 non-null float64\n",
        "pred_style_Minimal                  80000 non-null float64\n",
        "pred_style_Noir                     80000 non-null float64\n",
        "pred_style_Pastel                   80000 non-null float64\n",
        "pred_style_Romantic                 80000 non-null float64\n",
        "pred_style_Serene                   80000 non-null float64\n",
        "pred_style_Sunny                    80000 non-null float64\n",
        "pred_style_Texture                  80000 non-null float64\n",
        "pred_style_Vintage                  80000 non-null float64\n",
        "dtypes: float64(20)"
       ]
      },
      {
       "output_type": "stream",
       "stream": "stdout",
       "text": [
        "None\n"
       ]
      }
     ],
     "prompt_number": 41
    },
    {
     "cell_type": "code",
     "collapsed": false,
     "input": [
      "write_preds_as_feat('wikipaintings', 'wikipaintings_mar23')"
     ],
     "language": "python",
     "metadata": {},
     "outputs": [
      {
       "output_type": "stream",
       "stream": "stdout",
       "text": [
        "Results in collection wikipaintings_mar23: 2\n",
        "(82459, 50)"
       ]
      },
      {
       "output_type": "stream",
       "stream": "stdout",
       "text": [
        "\n"
       ]
      }
     ],
     "prompt_number": 10
    }
   ],
   "metadata": {}
  }
 ]
}