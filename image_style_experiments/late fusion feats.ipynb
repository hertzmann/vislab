{
 "metadata": {
  "name": ""
 },
 "nbformat": 3,
 "nbformat_minor": 0,
 "worksheets": [
  {
   "cells": [
    {
     "cell_type": "code",
     "collapsed": false,
     "input": [
      "%load_ext autoreload\n",
      "%autoreload 2\n",
      "import os\n",
      "import re\n",
      "import aphrodite.results\n",
      "import pandas as pd\n",
      "\n",
      "import vislab\n",
      "import vislab.datasets\n",
      "import vislab.results"
     ],
     "language": "python",
     "metadata": {},
     "outputs": [],
     "prompt_number": 1
    },
    {
     "cell_type": "code",
     "collapsed": false,
     "input": [
      "def write_preds_as_feat(dataset_name, collection_name):\n",
      "    results_df, preds_panel = aphrodite.results.load_pred_results(\n",
      "        collection_name, os.path.expanduser('~/work/aphrodite/data/results2'),\n",
      "        multiclass=True, force=False)\n",
      "    pred_prefix = 'pred'\n",
      "    \n",
      "    good_items = [x for x in preds_panel.items if x.startswith(pred_prefix)]\n",
      "    dfs = []\n",
      "    all_preds_ever_df = pd.DataFrame()\n",
      "    for item in good_items:\n",
      "        df = preds_panel[item].copy()\n",
      "        df.columns = ['{}_{}'.format(item, x) for x in df.columns]\n",
      "        all_preds_ever_df = all_preds_ever_df.join(df, how='outer')\n",
      "    all_preds_ever_df = all_preds_ever_df.astype(float)\n",
      "    all_preds_ever_df = all_preds_ever_df.fillna(all_preds_ever_df.mean())\n",
      "    print all_preds_ever_df.shape\n",
      "    \n",
      "    output_filename = '{}/{}/fusion_{}.txt.gz'.format(\n",
      "        vislab.config['paths']['feats'], dataset_name, collection_name)\n",
      "    vislab.vw3.write_data_in_vw_format(\n",
      "        all_preds_ever_df, 'fusion_{}'.format(collection_name), output_filename)"
     ],
     "language": "python",
     "metadata": {},
     "outputs": [],
     "prompt_number": 6
    },
    {
     "cell_type": "code",
     "collapsed": false,
     "input": [
      "write_preds_as_feat('ava_style', 'ava_style_oct22')"
     ],
     "language": "python",
     "metadata": {},
     "outputs": [
      {
       "output_type": "stream",
       "stream": "stdout",
       "text": [
        "Loaded from cache: 8 records\n",
        "(13843, 112)"
       ]
      },
      {
       "output_type": "stream",
       "stream": "stdout",
       "text": [
        "\n"
       ]
      }
     ],
     "prompt_number": 7
    },
    {
     "cell_type": "code",
     "collapsed": false,
     "input": [
      "write_preds_as_feat('flickr', 'flickr_oct26')"
     ],
     "language": "python",
     "metadata": {},
     "outputs": [
      {
       "output_type": "stream",
       "stream": "stdout",
       "text": [
        "Loaded from cache: 4 records\n",
        "<class 'pandas.core.frame.DataFrame'>\n",
        "Index: 50198 entries, f_1094854525 to f_99137295\n",
        "Data columns (total 68 columns):\n",
        "pred_style_Bright,_Energetic_decaf_fc6 False vw                50198  non-null values\n",
        "pred_style_Bright,_Energetic_decaf_fc6_flatten False vw        50197  non-null values\n",
        "pred_style_Bright,_Energetic_decaf_tuned_fc6 False vw          50198  non-null values\n",
        "pred_style_Bright,_Energetic_mc_bit False vw                   50152  non-null values\n",
        "pred_style_Depth_of_Field_decaf_fc6 False vw                   50198  non-null values\n",
        "pred_style_Depth_of_Field_decaf_fc6_flatten False vw           50197  non-null values\n",
        "pred_style_Depth_of_Field_decaf_tuned_fc6 False vw             50198  non-null values\n",
        "pred_style_Depth_of_Field_mc_bit False vw                      50152  non-null values\n",
        "pred_style_Ethereal_decaf_fc6 False vw                         50198  non-null values\n",
        "pred_style_Ethereal_decaf_fc6_flatten False vw                 50197  non-null values\n",
        "pred_style_Ethereal_decaf_tuned_fc6 False vw                   50198  non-null values\n",
        "pred_style_Ethereal_mc_bit False vw                            50152  non-null values\n",
        "pred_style_Geometric_Composition_decaf_fc6 False vw            50198  non-null values\n",
        "pred_style_Geometric_Composition_decaf_fc6_flatten False vw    50197  non-null values\n",
        "pred_style_Geometric_Composition_decaf_tuned_fc6 False vw      50198  non-null values\n",
        "pred_style_Geometric_Composition_mc_bit False vw               50152  non-null values\n",
        "pred_style_HDR_decaf_fc6 False vw                              50198  non-null values\n",
        "pred_style_HDR_decaf_fc6_flatten False vw                      50197  non-null values\n",
        "pred_style_HDR_decaf_tuned_fc6 False vw                        50198  non-null values\n",
        "pred_style_HDR_mc_bit False vw                                 50152  non-null values\n",
        "pred_style_Hazy_decaf_fc6 False vw                             50198  non-null values\n",
        "pred_style_Hazy_decaf_fc6_flatten False vw                     50197  non-null values\n",
        "pred_style_Hazy_decaf_tuned_fc6 False vw                       50198  non-null values\n",
        "pred_style_Hazy_mc_bit False vw                                50152  non-null values\n",
        "pred_style_Horror_decaf_fc6 False vw                           50198  non-null values\n",
        "pred_style_Horror_decaf_fc6_flatten False vw                   50197  non-null values\n",
        "pred_style_Horror_decaf_tuned_fc6 False vw                     50198  non-null values\n",
        "pred_style_Horror_mc_bit False vw                              50152  non-null values\n",
        "pred_style_Long_Exposure_decaf_fc6 False vw                    50198  non-null values\n",
        "pred_style_Long_Exposure_decaf_fc6_flatten False vw            50197  non-null values\n",
        "pred_style_Long_Exposure_decaf_tuned_fc6 False vw              50198  non-null values\n",
        "pred_style_Long_Exposure_mc_bit False vw                       50152  non-null values\n",
        "pred_style_Macro_decaf_fc6 False vw                            50198  non-null values\n",
        "pred_style_Macro_decaf_fc6_flatten False vw                    50197  non-null values\n",
        "pred_style_Macro_decaf_tuned_fc6 False vw                      50198  non-null values\n",
        "pred_style_Macro_mc_bit False vw                               50152  non-null values\n",
        "pred_style_Melancholy_decaf_fc6 False vw                       50198  non-null values\n",
        "pred_style_Melancholy_decaf_fc6_flatten False vw               50197  non-null values\n",
        "pred_style_Melancholy_decaf_tuned_fc6 False vw                 50198  non-null values\n",
        "pred_style_Melancholy_mc_bit False vw                          50152  non-null values\n",
        "pred_style_Minimal_decaf_fc6 False vw                          50198  non-null values\n",
        "pred_style_Minimal_decaf_fc6_flatten False vw                  50197  non-null values\n",
        "pred_style_Minimal_decaf_tuned_fc6 False vw                    50198  non-null values\n",
        "pred_style_Minimal_mc_bit False vw                             50152  non-null values\n",
        "pred_style_Noir_decaf_fc6 False vw                             50198  non-null values\n",
        "pred_style_Noir_decaf_fc6_flatten False vw                     50197  non-null values\n",
        "pred_style_Noir_decaf_tuned_fc6 False vw                       50198  non-null values\n",
        "pred_style_Noir_mc_bit False vw                                50152  non-null values\n",
        "pred_style_Romantic_decaf_fc6 False vw                         50198  non-null values\n",
        "pred_style_Romantic_decaf_fc6_flatten False vw                 50197  non-null values\n",
        "pred_style_Romantic_decaf_tuned_fc6 False vw                   50198  non-null values\n",
        "pred_style_Romantic_mc_bit False vw                            50152  non-null values\n",
        "pred_style_Serene_decaf_fc6 False vw                           50198  non-null values\n",
        "pred_style_Serene_decaf_fc6_flatten False vw                   50197  non-null values\n",
        "pred_style_Serene_decaf_tuned_fc6 False vw                     50198  non-null values\n",
        "pred_style_Serene_mc_bit False vw                              50152  non-null values\n",
        "pred_style_Soft,_Pastel_decaf_fc6 False vw                     50198  non-null values\n",
        "pred_style_Soft,_Pastel_decaf_fc6_flatten False vw             50197  non-null values\n",
        "pred_style_Soft,_Pastel_decaf_tuned_fc6 False vw               50198  non-null values\n",
        "pred_style_Soft,_Pastel_mc_bit False vw                        50152  non-null values\n",
        "pred_style_Sunny_decaf_fc6 False vw                            50198  non-null values\n",
        "pred_style_Sunny_decaf_fc6_flatten False vw                    50197  non-null values\n",
        "pred_style_Sunny_decaf_tuned_fc6 False vw                      50198  non-null values\n",
        "pred_style_Sunny_mc_bit False vw                               50152  non-null values\n",
        "pred_style_Vintage_decaf_fc6 False vw                          50198  non-null values\n",
        "pred_style_Vintage_decaf_fc6_flatten False vw                  50197  non-null values\n",
        "pred_style_Vintage_decaf_tuned_fc6 False vw                    50198  non-null values\n",
        "pred_style_Vintage_mc_bit False vw                             50152  non-null values\n",
        "dtypes: float64(68)"
       ]
      },
      {
       "output_type": "stream",
       "stream": "stdout",
       "text": [
        "\n"
       ]
      }
     ],
     "prompt_number": 4
    },
    {
     "cell_type": "code",
     "collapsed": false,
     "input": [
      "write_preds_as_feat('wikipaintings', 'wikipaintings_oct25')"
     ],
     "language": "python",
     "metadata": {},
     "outputs": []
    }
   ],
   "metadata": {}
  }
 ]
}