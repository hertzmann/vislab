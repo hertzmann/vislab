{
 "metadata": {
  "name": "",
  "signature": "sha256:bad621896f17f5c233d78793dab75051bc52de0a1af3fc1b1b1029cef49f8469"
 },
 "nbformat": 3,
 "nbformat_minor": 0,
 "worksheets": [
  {
   "cells": [
    {
     "cell_type": "code",
     "collapsed": false,
     "input": [
      "%load_ext autoreload\n",
      "%autoreload 2\n",
      "from IPython.display import HTML\n",
      "import vislab.datasets\n",
      "import vislab.results\n",
      "import os\n",
      "import pandas as pd"
     ],
     "language": "python",
     "metadata": {},
     "outputs": [],
     "prompt_number": 1
    },
    {
     "cell_type": "code",
     "collapsed": false,
     "input": [
      "from IPython.display import HTML\n",
      "def top_k_images(df, k=10):\n",
      "    return ' '.join(\n",
      "        '<div style=\"display: inline-block;\"><img src=\"{}\" width=\"210px\" /><br />{}</div>'.format(row['image_url'], row.name)\n",
      "        for i, row in df[:k].iterrows())\n",
      "\n",
      "import subprocess\n",
      "import shlex\n",
      "import re\n",
      "def top_images_for_style(df, style, split=None):\n",
      "    df_ = df.copy()\n",
      "    if split is not None:\n",
      "        df_ = df_[df_['split'] == split]\n",
      "    title = '<h4>{}, results: {}</h4>'.format(\n",
      "        style, df_.shape[0])\n",
      "    df_ = df_.sort(style, ascending=False)\n",
      "    \n",
      "    # download and resize to folder\n",
      "    d = os.path.expanduser('~/dropbox_work/aphrodite-writeup/figures/wp_on_wp/')\n",
      "    dirname = vislab.util.makedirs(d + '{}/'.format(style))\n",
      "    w_dirname = vislab.util.makedirs(d + '{}/w/'.format(style))\n",
      "    h_dirname = vislab.util.makedirs(d + '{}/h/'.format(style))\n",
      "    counter = 0\n",
      "    for i, row in df_[:5].iterrows():\n",
      "        cmd = 'wget {} -O {}.jpg'.format(row['image_url'], counter)\n",
      "        subprocess.call(shlex.split(cmd), cwd=dirname)\n",
      "        \n",
      "        cmd = 'find . -name \"*.jpg\" -depth 1 -exec convert {} -resize x310 -gravity Center -crop 192x310+0+0 -density 300 -units PixelsPerInch h/{} \\;'\n",
      "        subprocess.call(shlex.split(cmd), cwd=dirname)\n",
      "        \n",
      "        cmd = 'find . -name \"*.jpg\" -depth 1 -exec convert {} -resize 500 -gravity Center -crop 500x310+0+0 -density 300 -units PixelsPerInch w/{} \\;'\n",
      "        subprocess.call(shlex.split(cmd), cwd=dirname)\n",
      "        counter += 1 \n",
      "    \n",
      "    return title + top_k_images(df_, k=5)"
     ],
     "language": "python",
     "metadata": {},
     "outputs": [],
     "prompt_number": 55
    },
    {
     "cell_type": "code",
     "collapsed": false,
     "input": [
      "pred_df = pd.read_hdf(\n",
      "    \"../data/results/data_wikipaintings_style_ALL_features_['caffe_fc7']_num_test_16492_num_train_49475_num_val_16492_quadratic_None_task_clf.h5\",\n",
      "    'df'\n",
      ")\n",
      "pred_df.index.name = 'image_id'\n",
      "pred_df = pred_df[[x for x in pred_df.columns if x.startswith('pred_style_')]]\n",
      "wp_df = vislab.datasets.wikipaintings.get_style_df()\n",
      "wp_df.index.name = 'image_id'\n",
      "df = pred_df.join(wp_df)\n",
      "df = df[df['_split'] == 'test']"
     ],
     "language": "python",
     "metadata": {},
     "outputs": [],
     "prompt_number": 35
    },
    {
     "cell_type": "code",
     "collapsed": false,
     "input": [
      "style_labels = [x for x in df.columns if x.startswith('style_')]\n",
      "for style in style_labels:\n",
      "    top_images_for_style(df, style)"
     ],
     "language": "python",
     "metadata": {},
     "outputs": [],
     "prompt_number": 58
    }
   ],
   "metadata": {}
  }
 ]
}