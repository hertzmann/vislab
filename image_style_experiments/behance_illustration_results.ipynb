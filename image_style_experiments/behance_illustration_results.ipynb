{
 "metadata": {
  "name": ""
 },
 "nbformat": 3,
 "nbformat_minor": 0,
 "worksheets": [
  {
   "cells": [
    {
     "cell_type": "code",
     "collapsed": false,
     "input": [
      "%load_ext autoreload\n",
      "%autoreload 2\n",
      "import re\n",
      "import aphrodite.results\n",
      "import sklearn.metrics\n",
      "import pandas as pd\n",
      "\n",
      "import vislab\n",
      "import vislab.results\n",
      "import vislab.datasets"
     ],
     "language": "python",
     "metadata": {},
     "outputs": [
      {
       "output_type": "stream",
       "stream": "stderr",
       "text": [
        "/Users/karayev/anaconda/lib/python2.7/site-packages/configobj.py:145: DeprecationWarning: The compiler package is deprecated and removed in Python 3.x.\n",
        "  import compiler\n"
       ]
      }
     ],
     "prompt_number": 1
    },
    {
     "cell_type": "code",
     "collapsed": false,
     "input": [
      "label_df = vislab.datasets.behance.get_illustration_df()"
     ],
     "language": "python",
     "metadata": {},
     "outputs": [],
     "prompt_number": 2
    },
    {
     "cell_type": "code",
     "collapsed": false,
     "input": [
      "#c = vislab.util.get_mongodb_client()['predict']['behance_dec28']\n",
      "c = vislab.util.get_mongodb_client()['predict']['behance_illustration_jan15']\n",
      "#if c.find({'features': 'noise'}).count() > 0:\n",
      "#    c.remove({'features': 'noise'})\n",
      "pd.DataFrame([x for x in c.find()])"
     ],
     "language": "python",
     "metadata": {},
     "outputs": [
      {
       "html": [
        "<div style=\"max-height:1000px;max-width:1500px;overflow:auto;\">\n",
        "<table border=\"1\" class=\"dataframe\">\n",
        "  <thead>\n",
        "    <tr style=\"text-align: right;\">\n",
        "      <th></th>\n",
        "      <th>_id</th>\n",
        "      <th>data</th>\n",
        "      <th>features</th>\n",
        "      <th>num_test</th>\n",
        "      <th>num_train</th>\n",
        "      <th>num_val</th>\n",
        "      <th>quadratic</th>\n",
        "      <th>results_name</th>\n",
        "      <th>score_test</th>\n",
        "      <th>score_val</th>\n",
        "      <th>task</th>\n",
        "    </tr>\n",
        "  </thead>\n",
        "  <tbody>\n",
        "    <tr>\n",
        "      <th>0</th>\n",
        "      <td> 52d6e08e52e471defe2ff34b</td>\n",
        "      <td> behance_illustration_tag_logo</td>\n",
        "      <td> [noise]</td>\n",
        "      <td>  5047</td>\n",
        "      <td> 18623</td>\n",
        "      <td> 1128</td>\n",
        "      <td> None</td>\n",
        "      <td> data_behance_illustration_tag_logo_features_['...</td>\n",
        "      <td> 0.496454</td>\n",
        "      <td> 0.490248</td>\n",
        "      <td> clf</td>\n",
        "    </tr>\n",
        "    <tr>\n",
        "      <th>1</th>\n",
        "      <td> 52d6e3fc52e471defe2ff34c</td>\n",
        "      <td>   behance_illustration_tag_3d</td>\n",
        "      <td> [noise]</td>\n",
        "      <td> 14637</td>\n",
        "      <td>  9581</td>\n",
        "      <td>  580</td>\n",
        "      <td> None</td>\n",
        "      <td> data_behance_illustration_tag_3d_features_['no...</td>\n",
        "      <td> 0.493103</td>\n",
        "      <td> 0.489655</td>\n",
        "      <td> clf</td>\n",
        "    </tr>\n",
        "  </tbody>\n",
        "</table>\n",
        "<p>2 rows \u00d7 11 columns</p>\n",
        "</div>"
       ],
       "metadata": {},
       "output_type": "pyout",
       "prompt_number": 4,
       "text": [
        "                        _id                           data features  num_test  \\\n",
        "0  52d6e08e52e471defe2ff34b  behance_illustration_tag_logo  [noise]      5047   \n",
        "1  52d6e3fc52e471defe2ff34c    behance_illustration_tag_3d  [noise]     14637   \n",
        "\n",
        "   num_train  num_val quadratic  \\\n",
        "0      18623     1128      None   \n",
        "1       9581      580      None   \n",
        "\n",
        "                                        results_name  score_test  score_val  \\\n",
        "0  data_behance_illustration_tag_logo_features_['...    0.496454   0.490248   \n",
        "1  data_behance_illustration_tag_3d_features_['no...    0.493103   0.489655   \n",
        "\n",
        "  task  \n",
        "0  clf  \n",
        "1  clf  \n",
        "\n",
        "[2 rows x 11 columns]"
       ]
      }
     ],
     "prompt_number": 4
    },
    {
     "cell_type": "code",
     "collapsed": false,
     "input": [
      "#results_df, preds_panel = aphrodite.results.load_pred_results(\n",
      "#    'behance_dec28', '/Users/sergeyk/work/aphrodite/data/results/',\n",
      "results_df, preds_panel = aphrodite.results.load_pred_results(\n",
      "    'behance_illustration_jan15', '/Users/sergeyk/work/aphrodite/data/results/',\n",
      "    multiclass=False, force=True)\n",
      "pred_prefix = 'pred'\n",
      "print preds_panel\n",
      "print preds_panel.minor_axis"
     ],
     "language": "python",
     "metadata": {},
     "outputs": [
      {
       "output_type": "stream",
       "stream": "stdout",
       "text": [
        "Results in collection behance_illustration_jan15: 2\n",
        "<class 'pandas.core.panel.Panel'>\n",
        "Dimensions: 2 (items) x 24798 (major_axis) x 3 (minor_axis)\n",
        "Items axis: clf behance_illustration_tag_3d to clf behance_illustration_tag_logo\n",
        "Major_axis axis: behance_100006_530811213617146 to behance_9999621_efb52469e67a838d2496de5c7241100d\n",
        "Minor_axis axis: noise None vw to split"
       ]
      },
      {
       "output_type": "stream",
       "stream": "stdout",
       "text": [
        "\n",
        "Index([u'noise None vw', u'label', u'split'], dtype='object')\n"
       ]
      }
     ],
     "prompt_number": 5
    },
    {
     "cell_type": "code",
     "collapsed": false,
     "input": [
      "preds_panel = pd.read_pickle('/Users/sergeyk/work/aphrodite/data/results/behance_dec28_preds_panel.pickle')"
     ],
     "language": "python",
     "metadata": {},
     "outputs": [],
     "prompt_number": 21
    },
    {
     "cell_type": "code",
     "collapsed": false,
     "input": [
      "preds_panel.minor_xs('decaf_fc6 None vw')"
     ],
     "language": "python",
     "metadata": {},
     "outputs": [
      {
       "output_type": "stream",
       "stream": "stderr",
       "text": [
        "/Users/karayev/anaconda/lib/python2.7/site-packages/pandas/core/config.py:570: DeprecationWarning: height has been deprecated.\n",
        "\n",
        "  warnings.warn(d.msg, DeprecationWarning)\n"
       ]
      },
      {
       "html": [
        "<pre>\n",
        "&lt;class 'pandas.core.frame.DataFrame'&gt;\n",
        "Index: 24619 entries, behance_100006_530811213617146 to behance_9999621_efb52469e67a838d2496de5c7241100d\n",
        "Data columns (total 20 columns):\n",
        "clf behance_illustration_tag_3d            24619  non-null values\n",
        "clf behance_illustration_tag_animals       24619  non-null values\n",
        "clf behance_illustration_tag_city          24619  non-null values\n",
        "clf behance_illustration_tag_fantasy       24619  non-null values\n",
        "clf behance_illustration_tag_food          24619  non-null values\n",
        "clf behance_illustration_tag_girl          24619  non-null values\n",
        "clf behance_illustration_tag_ink           24619  non-null values\n",
        "clf behance_illustration_tag_lettering     24619  non-null values\n",
        "clf behance_illustration_tag_logo          24619  non-null values\n",
        "clf behance_illustration_tag_minimal       24619  non-null values\n",
        "clf behance_illustration_tag_nature        24619  non-null values\n",
        "clf behance_illustration_tag_pencil        24619  non-null values\n",
        "clf behance_illustration_tag_portrait      24619  non-null values\n",
        "clf behance_illustration_tag_retro         24619  non-null values\n",
        "clf behance_illustration_tag_skull         24619  non-null values\n",
        "clf behance_illustration_tag_surreal       24619  non-null values\n",
        "clf behance_illustration_tag_vector        24619  non-null values\n",
        "clf behance_illustration_tag_vintage       24619  non-null values\n",
        "clf behance_illustration_tag_watercolor    24619  non-null values\n",
        "clf behance_illustration_tag_wood          24619  non-null values\n",
        "dtypes: object(20)\n",
        "</pre>"
       ],
       "metadata": {},
       "output_type": "pyout",
       "prompt_number": 28,
       "text": [
        "<class 'pandas.core.frame.DataFrame'>\n",
        "Index: 24619 entries, behance_100006_530811213617146 to behance_9999621_efb52469e67a838d2496de5c7241100d\n",
        "Data columns (total 20 columns):\n",
        "clf behance_illustration_tag_3d            24619  non-null values\n",
        "clf behance_illustration_tag_animals       24619  non-null values\n",
        "clf behance_illustration_tag_city          24619  non-null values\n",
        "clf behance_illustration_tag_fantasy       24619  non-null values\n",
        "clf behance_illustration_tag_food          24619  non-null values\n",
        "clf behance_illustration_tag_girl          24619  non-null values\n",
        "clf behance_illustration_tag_ink           24619  non-null values\n",
        "clf behance_illustration_tag_lettering     24619  non-null values\n",
        "clf behance_illustration_tag_logo          24619  non-null values\n",
        "clf behance_illustration_tag_minimal       24619  non-null values\n",
        "clf behance_illustration_tag_nature        24619  non-null values\n",
        "clf behance_illustration_tag_pencil        24619  non-null values\n",
        "clf behance_illustration_tag_portrait      24619  non-null values\n",
        "clf behance_illustration_tag_retro         24619  non-null values\n",
        "clf behance_illustration_tag_skull         24619  non-null values\n",
        "clf behance_illustration_tag_surreal       24619  non-null values\n",
        "clf behance_illustration_tag_vector        24619  non-null values\n",
        "clf behance_illustration_tag_vintage       24619  non-null values\n",
        "clf behance_illustration_tag_watercolor    24619  non-null values\n",
        "clf behance_illustration_tag_wood          24619  non-null values\n",
        "dtypes: object(20)"
       ]
      }
     ],
     "prompt_number": 28
    },
    {
     "cell_type": "code",
     "collapsed": false,
     "input": [
      "mc_metrics = vislab.results.multiclass_metrics_feat_comparison(\n",
      "    preds_panel, label_df, pred_prefix, features=preds_panel.minor_axis.tolist() + ['random'],\n",
      "    balanced=True, with_plot=False, with_print=True)"
     ],
     "language": "python",
     "metadata": {},
     "outputs": [
      {
       "ename": "KeyError",
       "evalue": "\"['pred_pred'] not in index\"",
       "output_type": "pyerr",
       "traceback": [
        "\u001b[0;31m---------------------------------------------------------------------------\u001b[0m\n\u001b[0;31mKeyError\u001b[0m                                  Traceback (most recent call last)",
        "\u001b[0;32m<ipython-input-26-9125c013006b>\u001b[0m in \u001b[0;36m<module>\u001b[0;34m()\u001b[0m\n\u001b[1;32m      1\u001b[0m mc_metrics = vislab.results.multiclass_metrics_feat_comparison(\n\u001b[1;32m      2\u001b[0m     \u001b[0mpreds_panel\u001b[0m\u001b[0;34m,\u001b[0m \u001b[0mlabel_df\u001b[0m\u001b[0;34m,\u001b[0m \u001b[0mpred_prefix\u001b[0m\u001b[0;34m,\u001b[0m \u001b[0mfeatures\u001b[0m\u001b[0;34m=\u001b[0m\u001b[0mpreds_panel\u001b[0m\u001b[0;34m.\u001b[0m\u001b[0mminor_axis\u001b[0m\u001b[0;34m.\u001b[0m\u001b[0mtolist\u001b[0m\u001b[0;34m(\u001b[0m\u001b[0;34m)\u001b[0m \u001b[0;34m+\u001b[0m \u001b[0;34m[\u001b[0m\u001b[0;34m'random'\u001b[0m\u001b[0;34m]\u001b[0m\u001b[0;34m,\u001b[0m\u001b[0;34m\u001b[0m\u001b[0m\n\u001b[0;32m----> 3\u001b[0;31m     balanced=True, with_plot=False, with_print=True)\n\u001b[0m",
        "\u001b[0;32m/Users/karayev/work/vislab/vislab/results.pyc\u001b[0m in \u001b[0;36mmulticlass_metrics_feat_comparison\u001b[0;34m(preds_panel, source_label_df, pred_prefix, features, balanced, with_plot, with_print, nice_feat_names)\u001b[0m\n\u001b[1;32m    140\u001b[0m         feat_metrics[feature] = multiclass_metrics(\n\u001b[1;32m    141\u001b[0m             \u001b[0mmc_pred_df\u001b[0m\u001b[0;34m,\u001b[0m \u001b[0mpred_prefix\u001b[0m\u001b[0;34m,\u001b[0m \u001b[0mbalanced\u001b[0m\u001b[0;34m,\u001b[0m \u001b[0mrandom_preds\u001b[0m\u001b[0;34m,\u001b[0m\u001b[0;34m\u001b[0m\u001b[0m\n\u001b[0;32m--> 142\u001b[0;31m             with_plot, with_print)\n\u001b[0m\u001b[1;32m    143\u001b[0m \u001b[0;34m\u001b[0m\u001b[0m\n\u001b[1;32m    144\u001b[0m     \u001b[0mall_metrics\u001b[0m \u001b[0;34m=\u001b[0m \u001b[0;34m{\u001b[0m\u001b[0;34m'feat_metrics'\u001b[0m\u001b[0;34m:\u001b[0m \u001b[0mfeat_metrics\u001b[0m\u001b[0;34m}\u001b[0m\u001b[0;34m\u001b[0m\u001b[0m\n",
        "\u001b[0;32m/Users/karayev/work/vislab/vislab/results.pyc\u001b[0m in \u001b[0;36mmulticlass_metrics\u001b[0;34m(mc_pred_df, pred_prefix, balanced, random_preds, with_plot, with_print, min_pos)\u001b[0m\n\u001b[1;32m    220\u001b[0m     \u001b[0mgood_pred_cols\u001b[0m \u001b[0;34m=\u001b[0m \u001b[0;34m[\u001b[0m\u001b[0mpred_prefix\u001b[0m \u001b[0;34m+\u001b[0m \u001b[0;34m'_'\u001b[0m \u001b[0;34m+\u001b[0m \u001b[0mx\u001b[0m \u001b[0;32mfor\u001b[0m \u001b[0mx\u001b[0m \u001b[0;32min\u001b[0m \u001b[0mgood_cols\u001b[0m\u001b[0;34m]\u001b[0m\u001b[0;34m\u001b[0m\u001b[0m\n\u001b[1;32m    221\u001b[0m     \u001b[0mlabel_df\u001b[0m \u001b[0;34m=\u001b[0m \u001b[0mlabel_df\u001b[0m\u001b[0;34m[\u001b[0m\u001b[0mgood_cols\u001b[0m\u001b[0;34m]\u001b[0m\u001b[0;34m\u001b[0m\u001b[0m\n\u001b[0;32m--> 222\u001b[0;31m     \u001b[0mpred_df\u001b[0m \u001b[0;34m=\u001b[0m \u001b[0mpred_df\u001b[0m\u001b[0;34m[\u001b[0m\u001b[0mgood_pred_cols\u001b[0m\u001b[0;34m]\u001b[0m\u001b[0;34m\u001b[0m\u001b[0m\n\u001b[0m\u001b[1;32m    223\u001b[0m \u001b[0;34m\u001b[0m\u001b[0m\n\u001b[1;32m    224\u001b[0m     \u001b[0mlabel_cols\u001b[0m \u001b[0;34m=\u001b[0m \u001b[0mlabel_df\u001b[0m\u001b[0;34m.\u001b[0m\u001b[0mcolumns\u001b[0m\u001b[0;34m.\u001b[0m\u001b[0mtolist\u001b[0m\u001b[0;34m(\u001b[0m\u001b[0;34m)\u001b[0m\u001b[0;34m\u001b[0m\u001b[0m\n",
        "\u001b[0;32m/Users/karayev/anaconda/lib/python2.7/site-packages/pandas/core/frame.pyc\u001b[0m in \u001b[0;36m__getitem__\u001b[0;34m(self, key)\u001b[0m\n\u001b[1;32m   1993\u001b[0m         \u001b[0;32mif\u001b[0m \u001b[0misinstance\u001b[0m\u001b[0;34m(\u001b[0m\u001b[0mkey\u001b[0m\u001b[0;34m,\u001b[0m \u001b[0;34m(\u001b[0m\u001b[0mnp\u001b[0m\u001b[0;34m.\u001b[0m\u001b[0mndarray\u001b[0m\u001b[0;34m,\u001b[0m \u001b[0mlist\u001b[0m\u001b[0;34m)\u001b[0m\u001b[0;34m)\u001b[0m\u001b[0;34m:\u001b[0m\u001b[0;34m\u001b[0m\u001b[0m\n\u001b[1;32m   1994\u001b[0m             \u001b[0;31m# either boolean or fancy integer index\u001b[0m\u001b[0;34m\u001b[0m\u001b[0;34m\u001b[0m\u001b[0m\n\u001b[0;32m-> 1995\u001b[0;31m             \u001b[0;32mreturn\u001b[0m \u001b[0mself\u001b[0m\u001b[0;34m.\u001b[0m\u001b[0m_getitem_array\u001b[0m\u001b[0;34m(\u001b[0m\u001b[0mkey\u001b[0m\u001b[0;34m)\u001b[0m\u001b[0;34m\u001b[0m\u001b[0m\n\u001b[0m\u001b[1;32m   1996\u001b[0m         \u001b[0;32melif\u001b[0m \u001b[0misinstance\u001b[0m\u001b[0;34m(\u001b[0m\u001b[0mkey\u001b[0m\u001b[0;34m,\u001b[0m \u001b[0mDataFrame\u001b[0m\u001b[0;34m)\u001b[0m\u001b[0;34m:\u001b[0m\u001b[0;34m\u001b[0m\u001b[0m\n\u001b[1;32m   1997\u001b[0m             \u001b[0;32mreturn\u001b[0m \u001b[0mself\u001b[0m\u001b[0;34m.\u001b[0m\u001b[0m_getitem_frame\u001b[0m\u001b[0;34m(\u001b[0m\u001b[0mkey\u001b[0m\u001b[0;34m)\u001b[0m\u001b[0;34m\u001b[0m\u001b[0m\n",
        "\u001b[0;32m/Users/karayev/anaconda/lib/python2.7/site-packages/pandas/core/frame.pyc\u001b[0m in \u001b[0;36m_getitem_array\u001b[0;34m(self, key)\u001b[0m\n\u001b[1;32m   2029\u001b[0m             \u001b[0;32mreturn\u001b[0m \u001b[0mself\u001b[0m\u001b[0;34m.\u001b[0m\u001b[0mtake\u001b[0m\u001b[0;34m(\u001b[0m\u001b[0mindexer\u001b[0m\u001b[0;34m,\u001b[0m \u001b[0maxis\u001b[0m\u001b[0;34m=\u001b[0m\u001b[0;36m0\u001b[0m\u001b[0;34m,\u001b[0m \u001b[0mconvert\u001b[0m\u001b[0;34m=\u001b[0m\u001b[0mFalse\u001b[0m\u001b[0;34m)\u001b[0m\u001b[0;34m\u001b[0m\u001b[0m\n\u001b[1;32m   2030\u001b[0m         \u001b[0;32melse\u001b[0m\u001b[0;34m:\u001b[0m\u001b[0;34m\u001b[0m\u001b[0m\n\u001b[0;32m-> 2031\u001b[0;31m             \u001b[0mindexer\u001b[0m \u001b[0;34m=\u001b[0m \u001b[0mself\u001b[0m\u001b[0;34m.\u001b[0m\u001b[0mix\u001b[0m\u001b[0;34m.\u001b[0m\u001b[0m_convert_to_indexer\u001b[0m\u001b[0;34m(\u001b[0m\u001b[0mkey\u001b[0m\u001b[0;34m,\u001b[0m \u001b[0maxis\u001b[0m\u001b[0;34m=\u001b[0m\u001b[0;36m1\u001b[0m\u001b[0;34m)\u001b[0m\u001b[0;34m\u001b[0m\u001b[0m\n\u001b[0m\u001b[1;32m   2032\u001b[0m             \u001b[0;32mreturn\u001b[0m \u001b[0mself\u001b[0m\u001b[0;34m.\u001b[0m\u001b[0mtake\u001b[0m\u001b[0;34m(\u001b[0m\u001b[0mindexer\u001b[0m\u001b[0;34m,\u001b[0m \u001b[0maxis\u001b[0m\u001b[0;34m=\u001b[0m\u001b[0;36m1\u001b[0m\u001b[0;34m,\u001b[0m \u001b[0mconvert\u001b[0m\u001b[0;34m=\u001b[0m\u001b[0mTrue\u001b[0m\u001b[0;34m)\u001b[0m\u001b[0;34m\u001b[0m\u001b[0m\n\u001b[1;32m   2033\u001b[0m \u001b[0;34m\u001b[0m\u001b[0m\n",
        "\u001b[0;32m/Users/karayev/anaconda/lib/python2.7/site-packages/pandas/core/indexing.pyc\u001b[0m in \u001b[0;36m_convert_to_indexer\u001b[0;34m(self, obj, axis)\u001b[0m\n\u001b[1;32m    608\u001b[0m                 \u001b[0mmask\u001b[0m \u001b[0;34m=\u001b[0m \u001b[0mcheck\u001b[0m \u001b[0;34m==\u001b[0m \u001b[0;34m-\u001b[0m\u001b[0;36m1\u001b[0m\u001b[0;34m\u001b[0m\u001b[0m\n\u001b[1;32m    609\u001b[0m                 \u001b[0;32mif\u001b[0m \u001b[0mmask\u001b[0m\u001b[0;34m.\u001b[0m\u001b[0many\u001b[0m\u001b[0;34m(\u001b[0m\u001b[0;34m)\u001b[0m\u001b[0;34m:\u001b[0m\u001b[0;34m\u001b[0m\u001b[0m\n\u001b[0;32m--> 610\u001b[0;31m                     \u001b[0;32mraise\u001b[0m \u001b[0mKeyError\u001b[0m\u001b[0;34m(\u001b[0m\u001b[0;34m'%s not in index'\u001b[0m \u001b[0;34m%\u001b[0m \u001b[0mobjarr\u001b[0m\u001b[0;34m[\u001b[0m\u001b[0mmask\u001b[0m\u001b[0;34m]\u001b[0m\u001b[0;34m)\u001b[0m\u001b[0;34m\u001b[0m\u001b[0m\n\u001b[0m\u001b[1;32m    611\u001b[0m \u001b[0;34m\u001b[0m\u001b[0m\n\u001b[1;32m    612\u001b[0m                 \u001b[0;32mreturn\u001b[0m \u001b[0mindexer\u001b[0m\u001b[0;34m\u001b[0m\u001b[0m\n",
        "\u001b[0;31mKeyError\u001b[0m: \"['pred_pred'] not in index\""
       ]
      },
      {
       "output_type": "stream",
       "stream": "stdout",
       "text": [
        "Only taking 'test' split predictions.\n",
        "********************noise None vw********************\n"
       ]
      }
     ],
     "prompt_number": 26
    }
   ],
   "metadata": {}
  }
 ]
}