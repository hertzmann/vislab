{
 "metadata": {
  "name": ""
 },
 "nbformat": 3,
 "nbformat_minor": 0,
 "worksheets": [
  {
   "cells": [
    {
     "cell_type": "code",
     "collapsed": false,
     "input": [
      "%load_ext autoreload\n",
      "%autoreload 2\n",
      "from IPython.display import HTML\n",
      "import vislab.datasets\n",
      "import aphrodite.results\n",
      "import os\n",
      "from pprint import pprint"
     ],
     "language": "python",
     "metadata": {},
     "outputs": [],
     "prompt_number": 2
    },
    {
     "cell_type": "code",
     "collapsed": false,
     "input": [
      "def top_k_images(df, k=10):\n",
      "    return HTML(' '.join('<img src=\"{}\" width=\"210px\" />'.format(x) for x in df['image_url'].iloc[:k]))"
     ],
     "language": "python",
     "metadata": {},
     "outputs": [],
     "prompt_number": 3
    },
    {
     "cell_type": "code",
     "collapsed": false,
     "input": [
      "def top_k_for_styles(df, filter_ind, sort_columns, k=5):\n",
      "    return HTML(' '.join(\n",
      "        '<h4>{}</h4>'.format(sort_column) + ' '.join(\n",
      "            '<img src=\"{}\" width=\"210px\" />'.format(x)\n",
      "            for x in df[filter_ind].sort('pred_style_' + sort_column, ascending=False)['image_url'].iloc[:k]\n",
      "        )\n",
      "        for sort_column in sort_columns\n",
      "    ))"
     ],
     "language": "python",
     "metadata": {},
     "outputs": [],
     "prompt_number": 26
    },
    {
     "cell_type": "code",
     "collapsed": false,
     "input": [
      "pascal_df = vislab.datasets.pascal.get_clf_df()"
     ],
     "language": "python",
     "metadata": {},
     "outputs": [],
     "prompt_number": 5
    },
    {
     "cell_type": "code",
     "collapsed": false,
     "input": [
      "results_df, preds_panel = aphrodite.results.load_pred_results(\n",
      "    'flickr_on_pascal_oct30', os.path.expanduser('~/work/aphrodite/data/results2'),\n",
      "    multiclass=True, force=False)\n",
      "flickr_pred_df = preds_panel.minor_xs('decaf_fc6 False vw')\n",
      "flickr_pred_df = flickr_pred_df[[x for x in flickr_pred_df.columns if x.startswith('pred_')]]"
     ],
     "language": "python",
     "metadata": {},
     "outputs": [
      {
       "output_type": "stream",
       "stream": "stdout",
       "text": [
        "Loaded from cache: 1 records\n"
       ]
      }
     ],
     "prompt_number": 6
    },
    {
     "cell_type": "code",
     "collapsed": false,
     "input": [
      "results_df, preds_panel = aphrodite.results.load_pred_results(\n",
      "    'wp_on_pascal_oct30', os.path.expanduser('~/work/aphrodite/data/results2'),\n",
      "    multiclass=True, force=True)\n",
      "wp_pred_df = preds_panel.minor_xs('decaf_fc6 False vw')\n",
      "wp_pred_df = wp_pred_df[[x for x in wp_pred_df.columns if x.startswith('pred_')]]"
     ],
     "language": "python",
     "metadata": {},
     "outputs": [
      {
       "output_type": "stream",
       "stream": "stdout",
       "text": [
        "Results in collection wp_on_pascal_oct30: 1\n"
       ]
      }
     ],
     "prompt_number": 13
    },
    {
     "cell_type": "code",
     "collapsed": false,
     "input": [
      "df = pascal_df.join(flickr_pred_df).join(wp_pred_df)\n",
      "# do 'python -m SimpleHTTPServer 5300' in the PASCAL JPEGImages directory locally\n",
      "#df['image_url'] = ['http://0.0.0.0:5300/{}.jpg'.format(x) for x in df.index]\n",
      "df['image_url'] = ['http://ec2-50-18-4-32.us-west-1.compute.amazonaws.com/{}.jpg'.format(x) for x in df.index]"
     ],
     "language": "python",
     "metadata": {},
     "outputs": [],
     "prompt_number": 31
    },
    {
     "cell_type": "code",
     "collapsed": false,
     "input": [
      "print(', '.join(df.columns.tolist()))"
     ],
     "language": "python",
     "metadata": {},
     "outputs": [
      {
       "output_type": "stream",
       "stream": "stdout",
       "text": [
        "_height, _source, _width, class_aeroplane, class_bicycle, class_bird, class_boat, class_bottle, class_bus, class_car, class_cat, class_chair, class_cow, class_diningtable, class_dog, class_horse, class_motorbike, class_person, class_pottedplant, class_sheep, class_sofa, class_train, class_tvmonitor, _split, metaclass_animal, metaclass_vehicle, metaclass_indoor, metaclass_person, pred_style_Bright,_Energetic, pred_style_Depth_of_Field, pred_style_Ethereal, pred_style_Geometric_Composition, pred_style_HDR, pred_style_Hazy, pred_style_Horror, pred_style_Long_Exposure, pred_style_Macro, pred_style_Melancholy, pred_style_Minimal, pred_style_Noir, pred_style_Romantic, pred_style_Serene, pred_style_Soft,_Pastel, pred_style_Sunny, pred_style_Vintage, pred_style_Abstract_Art, pred_style_Abstract_Expressionism, pred_style_Art_Informel, pred_style_Art_Nouveau_(Modern), pred_style_Baroque, pred_style_Color_Field_Painting, pred_style_Cubism, pred_style_Early_Renaissance, pred_style_Expressionism, pred_style_High_Renaissance, pred_style_Impressionism, pred_style_Magic_Realism, pred_style_Mannerism_(Late_Renaissance), pred_style_Minimalism, pred_style_Nave_Art_(Primitivism), pred_style_Neoclassicism, pred_style_Northern_Renaissance, pred_style_Pop_Art, pred_style_Post-Impressionism, pred_style_Realism, pred_style_Rococo, pred_style_Romanticism, pred_style_Surrealism, pred_style_Symbolism, pred_style_Ukiyo-e, image_url\n"
       ]
      }
     ],
     "prompt_number": 15
    },
    {
     "cell_type": "markdown",
     "metadata": {},
     "source": [
      "## Everything"
     ]
    },
    {
     "cell_type": "code",
     "collapsed": false,
     "input": [
      "top_k_for_styles(\n",
      "    df, [True] * df.shape[0],\n",
      "    ['Geometric_Composition', 'HDR', 'Noir', 'Romantic', 'Vintage', 'Horror', 'Bright,_Energetic', 'Serene', 'Macro',\n",
      "     'Surrealism', 'Expressionism', 'Impressionism', 'Romanticism', 'Color_Field_Painting', 'Ukiyo-e', 'High_Renaissance', 'Cubism', 'Abstract_Art']\n",
      ")"
     ],
     "language": "python",
     "metadata": {},
     "outputs": [
      {
       "html": [
        "<h4>Geometric_Composition</h4><img src=\"http://ec2-50-18-4-32.us-west-1.compute.amazonaws.com/2009_005256.jpg\" width=\"210px\" /> <img src=\"http://ec2-50-18-4-32.us-west-1.compute.amazonaws.com/2008_006936.jpg\" width=\"210px\" /> <img src=\"http://ec2-50-18-4-32.us-west-1.compute.amazonaws.com/2009_003644.jpg\" width=\"210px\" /> <img src=\"http://ec2-50-18-4-32.us-west-1.compute.amazonaws.com/2010_003854.jpg\" width=\"210px\" /> <img src=\"http://ec2-50-18-4-32.us-west-1.compute.amazonaws.com/2008_005389.jpg\" width=\"210px\" /> <h4>HDR</h4><img src=\"http://ec2-50-18-4-32.us-west-1.compute.amazonaws.com/2008_003826.jpg\" width=\"210px\" /> <img src=\"http://ec2-50-18-4-32.us-west-1.compute.amazonaws.com/2009_002512.jpg\" width=\"210px\" /> <img src=\"http://ec2-50-18-4-32.us-west-1.compute.amazonaws.com/2008_003691.jpg\" width=\"210px\" /> <img src=\"http://ec2-50-18-4-32.us-west-1.compute.amazonaws.com/2008_007918.jpg\" width=\"210px\" /> <img src=\"http://ec2-50-18-4-32.us-west-1.compute.amazonaws.com/2008_004518.jpg\" width=\"210px\" /> <h4>Noir</h4><img src=\"http://ec2-50-18-4-32.us-west-1.compute.amazonaws.com/2010_004550.jpg\" width=\"210px\" /> <img src=\"http://ec2-50-18-4-32.us-west-1.compute.amazonaws.com/2010_004102.jpg\" width=\"210px\" /> <img src=\"http://ec2-50-18-4-32.us-west-1.compute.amazonaws.com/2010_003949.jpg\" width=\"210px\" /> <img src=\"http://ec2-50-18-4-32.us-west-1.compute.amazonaws.com/2008_005472.jpg\" width=\"210px\" /> <img src=\"http://ec2-50-18-4-32.us-west-1.compute.amazonaws.com/2010_004937.jpg\" width=\"210px\" /> <h4>Romantic</h4><img src=\"http://ec2-50-18-4-32.us-west-1.compute.amazonaws.com/2008_002404.jpg\" width=\"210px\" /> <img src=\"http://ec2-50-18-4-32.us-west-1.compute.amazonaws.com/2008_003915.jpg\" width=\"210px\" /> <img src=\"http://ec2-50-18-4-32.us-west-1.compute.amazonaws.com/2010_005349.jpg\" width=\"210px\" /> <img src=\"http://ec2-50-18-4-32.us-west-1.compute.amazonaws.com/2008_001122.jpg\" width=\"210px\" /> <img src=\"http://ec2-50-18-4-32.us-west-1.compute.amazonaws.com/2008_003608.jpg\" width=\"210px\" /> <h4>Vintage</h4><img src=\"http://ec2-50-18-4-32.us-west-1.compute.amazonaws.com/2009_002980.jpg\" width=\"210px\" /> <img src=\"http://ec2-50-18-4-32.us-west-1.compute.amazonaws.com/2011_000010.jpg\" width=\"210px\" /> <img src=\"http://ec2-50-18-4-32.us-west-1.compute.amazonaws.com/2010_003801.jpg\" width=\"210px\" /> <img src=\"http://ec2-50-18-4-32.us-west-1.compute.amazonaws.com/2008_004145.jpg\" width=\"210px\" /> <img src=\"http://ec2-50-18-4-32.us-west-1.compute.amazonaws.com/2009_003034.jpg\" width=\"210px\" /> <h4>Horror</h4><img src=\"http://ec2-50-18-4-32.us-west-1.compute.amazonaws.com/2008_000808.jpg\" width=\"210px\" /> <img src=\"http://ec2-50-18-4-32.us-west-1.compute.amazonaws.com/2010_003791.jpg\" width=\"210px\" /> <img src=\"http://ec2-50-18-4-32.us-west-1.compute.amazonaws.com/2009_000770.jpg\" width=\"210px\" /> <img src=\"http://ec2-50-18-4-32.us-west-1.compute.amazonaws.com/2008_005871.jpg\" width=\"210px\" /> <img src=\"http://ec2-50-18-4-32.us-west-1.compute.amazonaws.com/2009_001286.jpg\" width=\"210px\" /> <h4>Bright,_Energetic</h4><img src=\"http://ec2-50-18-4-32.us-west-1.compute.amazonaws.com/2008_002701.jpg\" width=\"210px\" /> <img src=\"http://ec2-50-18-4-32.us-west-1.compute.amazonaws.com/2009_003598.jpg\" width=\"210px\" /> <img src=\"http://ec2-50-18-4-32.us-west-1.compute.amazonaws.com/2010_005100.jpg\" width=\"210px\" /> <img src=\"http://ec2-50-18-4-32.us-west-1.compute.amazonaws.com/2010_004141.jpg\" width=\"210px\" /> <img src=\"http://ec2-50-18-4-32.us-west-1.compute.amazonaws.com/2008_008544.jpg\" width=\"210px\" /> <h4>Serene</h4><img src=\"http://ec2-50-18-4-32.us-west-1.compute.amazonaws.com/2010_002130.jpg\" width=\"210px\" /> <img src=\"http://ec2-50-18-4-32.us-west-1.compute.amazonaws.com/2008_001858.jpg\" width=\"210px\" /> <img src=\"http://ec2-50-18-4-32.us-west-1.compute.amazonaws.com/2008_007870.jpg\" width=\"210px\" /> <img src=\"http://ec2-50-18-4-32.us-west-1.compute.amazonaws.com/2008_004593.jpg\" width=\"210px\" /> <img src=\"http://ec2-50-18-4-32.us-west-1.compute.amazonaws.com/2010_001548.jpg\" width=\"210px\" /> <h4>Macro</h4><img src=\"http://ec2-50-18-4-32.us-west-1.compute.amazonaws.com/2008_008595.jpg\" width=\"210px\" /> <img src=\"http://ec2-50-18-4-32.us-west-1.compute.amazonaws.com/2009_000790.jpg\" width=\"210px\" /> <img src=\"http://ec2-50-18-4-32.us-west-1.compute.amazonaws.com/2009_000103.jpg\" width=\"210px\" /> <img src=\"http://ec2-50-18-4-32.us-west-1.compute.amazonaws.com/2011_003091.jpg\" width=\"210px\" /> <img src=\"http://ec2-50-18-4-32.us-west-1.compute.amazonaws.com/2009_003640.jpg\" width=\"210px\" /> <h4>Surrealism</h4><img src=\"http://ec2-50-18-4-32.us-west-1.compute.amazonaws.com/2010_002772.jpg\" width=\"210px\" /> <img src=\"http://ec2-50-18-4-32.us-west-1.compute.amazonaws.com/2010_002760.jpg\" width=\"210px\" /> <img src=\"http://ec2-50-18-4-32.us-west-1.compute.amazonaws.com/2010_001225.jpg\" width=\"210px\" /> <img src=\"http://ec2-50-18-4-32.us-west-1.compute.amazonaws.com/2009_000979.jpg\" width=\"210px\" /> <img src=\"http://ec2-50-18-4-32.us-west-1.compute.amazonaws.com/2009_000980.jpg\" width=\"210px\" /> <h4>Expressionism</h4><img src=\"http://ec2-50-18-4-32.us-west-1.compute.amazonaws.com/2008_007265.jpg\" width=\"210px\" /> <img src=\"http://ec2-50-18-4-32.us-west-1.compute.amazonaws.com/2009_002240.jpg\" width=\"210px\" /> <img src=\"http://ec2-50-18-4-32.us-west-1.compute.amazonaws.com/2008_004453.jpg\" width=\"210px\" /> <img src=\"http://ec2-50-18-4-32.us-west-1.compute.amazonaws.com/2008_007966.jpg\" width=\"210px\" /> <img src=\"http://ec2-50-18-4-32.us-west-1.compute.amazonaws.com/2010_003108.jpg\" width=\"210px\" /> <h4>Impressionism</h4><img src=\"http://ec2-50-18-4-32.us-west-1.compute.amazonaws.com/2008_002172.jpg\" width=\"210px\" /> <img src=\"http://ec2-50-18-4-32.us-west-1.compute.amazonaws.com/2010_003028.jpg\" width=\"210px\" /> <img src=\"http://ec2-50-18-4-32.us-west-1.compute.amazonaws.com/2010_004714.jpg\" width=\"210px\" /> <img src=\"http://ec2-50-18-4-32.us-west-1.compute.amazonaws.com/2009_004592.jpg\" width=\"210px\" /> <img src=\"http://ec2-50-18-4-32.us-west-1.compute.amazonaws.com/2010_004704.jpg\" width=\"210px\" /> <h4>Romanticism</h4><img src=\"http://ec2-50-18-4-32.us-west-1.compute.amazonaws.com/2009_001770.jpg\" width=\"210px\" /> <img src=\"http://ec2-50-18-4-32.us-west-1.compute.amazonaws.com/2009_003804.jpg\" width=\"210px\" /> <img src=\"http://ec2-50-18-4-32.us-west-1.compute.amazonaws.com/2009_001329.jpg\" width=\"210px\" /> <img src=\"http://ec2-50-18-4-32.us-west-1.compute.amazonaws.com/2010_005215.jpg\" width=\"210px\" /> <img src=\"http://ec2-50-18-4-32.us-west-1.compute.amazonaws.com/2010_004809.jpg\" width=\"210px\" /> <h4>Color_Field_Painting</h4><img src=\"http://ec2-50-18-4-32.us-west-1.compute.amazonaws.com/2008_007226.jpg\" width=\"210px\" /> <img src=\"http://ec2-50-18-4-32.us-west-1.compute.amazonaws.com/2010_002455.jpg\" width=\"210px\" /> <img src=\"http://ec2-50-18-4-32.us-west-1.compute.amazonaws.com/2008_005439.jpg\" width=\"210px\" /> <img src=\"http://ec2-50-18-4-32.us-west-1.compute.amazonaws.com/2010_003169.jpg\" width=\"210px\" /> <img src=\"http://ec2-50-18-4-32.us-west-1.compute.amazonaws.com/2008_006249.jpg\" width=\"210px\" /> <h4>Ukiyo-e</h4><img src=\"http://ec2-50-18-4-32.us-west-1.compute.amazonaws.com/2010_002127.jpg\" width=\"210px\" /> <img src=\"http://ec2-50-18-4-32.us-west-1.compute.amazonaws.com/2009_000244.jpg\" width=\"210px\" /> <img src=\"http://ec2-50-18-4-32.us-west-1.compute.amazonaws.com/2011_003261.jpg\" width=\"210px\" /> <img src=\"http://ec2-50-18-4-32.us-west-1.compute.amazonaws.com/2009_000248.jpg\" width=\"210px\" /> <img src=\"http://ec2-50-18-4-32.us-west-1.compute.amazonaws.com/2011_003256.jpg\" width=\"210px\" /> <h4>High_Renaissance</h4><img src=\"http://ec2-50-18-4-32.us-west-1.compute.amazonaws.com/2010_005115.jpg\" width=\"210px\" /> <img src=\"http://ec2-50-18-4-32.us-west-1.compute.amazonaws.com/2010_000506.jpg\" width=\"210px\" /> <img src=\"http://ec2-50-18-4-32.us-west-1.compute.amazonaws.com/2008_003297.jpg\" width=\"210px\" /> <img src=\"http://ec2-50-18-4-32.us-west-1.compute.amazonaws.com/2008_001104.jpg\" width=\"210px\" /> <img src=\"http://ec2-50-18-4-32.us-west-1.compute.amazonaws.com/2008_003749.jpg\" width=\"210px\" /> <h4>Cubism</h4><img src=\"http://ec2-50-18-4-32.us-west-1.compute.amazonaws.com/2009_003310.jpg\" width=\"210px\" /> <img src=\"http://ec2-50-18-4-32.us-west-1.compute.amazonaws.com/2011_000098.jpg\" width=\"210px\" /> <img src=\"http://ec2-50-18-4-32.us-west-1.compute.amazonaws.com/2009_003253.jpg\" width=\"210px\" /> <img src=\"http://ec2-50-18-4-32.us-west-1.compute.amazonaws.com/2008_006570.jpg\" width=\"210px\" /> <img src=\"http://ec2-50-18-4-32.us-west-1.compute.amazonaws.com/2008_000015.jpg\" width=\"210px\" /> <h4>Abstract_Art</h4><img src=\"http://ec2-50-18-4-32.us-west-1.compute.amazonaws.com/2010_000678.jpg\" width=\"210px\" /> <img src=\"http://ec2-50-18-4-32.us-west-1.compute.amazonaws.com/2009_005131.jpg\" width=\"210px\" /> <img src=\"http://ec2-50-18-4-32.us-west-1.compute.amazonaws.com/2008_006523.jpg\" width=\"210px\" /> <img src=\"http://ec2-50-18-4-32.us-west-1.compute.amazonaws.com/2010_003608.jpg\" width=\"210px\" /> <img src=\"http://ec2-50-18-4-32.us-west-1.compute.amazonaws.com/2009_002371.jpg\" width=\"210px\" />"
       ],
       "metadata": {},
       "output_type": "pyout",
       "prompt_number": 32,
       "text": [
        "<IPython.core.display.HTML at 0x1187e9750>"
       ]
      }
     ],
     "prompt_number": 32
    },
    {
     "cell_type": "markdown",
     "metadata": {},
     "source": [
      "## Birds"
     ]
    },
    {
     "cell_type": "code",
     "collapsed": false,
     "input": [
      "top_k_for_styles(\n",
      "    df, df['class_bird'],\n",
      "    ['Geometric_Composition', 'HDR', 'Noir', 'Romantic', 'Vintage', 'Horror', 'Bright,_Energetic', 'Serene', 'Macro',\n",
      "     'Surrealism', 'Expressionism', 'Impressionism', 'High_Renaissance', 'Cubism', 'Abstract_Art', 'Color_Field_Painting']\n",
      ")"
     ],
     "language": "python",
     "metadata": {},
     "outputs": [
      {
       "html": [
        "<h4>Geometric_Composition</h4><img src=\"http://0.0.0.0:5300/2008_000785.jpg\" width=\"210px\" /> <img src=\"http://0.0.0.0:5300/2008_003942.jpg\" width=\"210px\" /> <img src=\"http://0.0.0.0:5300/2010_000918.jpg\" width=\"210px\" /> <img src=\"http://0.0.0.0:5300/2008_004837.jpg\" width=\"210px\" /> <img src=\"http://0.0.0.0:5300/2009_003002.jpg\" width=\"210px\" /> <h4>HDR</h4><img src=\"http://0.0.0.0:5300/2008_007940.jpg\" width=\"210px\" /> <img src=\"http://0.0.0.0:5300/2008_007250.jpg\" width=\"210px\" /> <img src=\"http://0.0.0.0:5300/2010_000956.jpg\" width=\"210px\" /> <img src=\"http://0.0.0.0:5300/2009_002286.jpg\" width=\"210px\" /> <img src=\"http://0.0.0.0:5300/2009_004568.jpg\" width=\"210px\" /> <h4>Noir</h4><img src=\"http://0.0.0.0:5300/2008_007848.jpg\" width=\"210px\" /> <img src=\"http://0.0.0.0:5300/2010_000918.jpg\" width=\"210px\" /> <img src=\"http://0.0.0.0:5300/2008_000861.jpg\" width=\"210px\" /> <img src=\"http://0.0.0.0:5300/2010_004385.jpg\" width=\"210px\" /> <img src=\"http://0.0.0.0:5300/2008_003997.jpg\" width=\"210px\" /> <h4>Romantic</h4><img src=\"http://0.0.0.0:5300/2011_002578.jpg\" width=\"210px\" /> <img src=\"http://0.0.0.0:5300/2010_003526.jpg\" width=\"210px\" /> <img src=\"http://0.0.0.0:5300/2010_003724.jpg\" width=\"210px\" /> <img src=\"http://0.0.0.0:5300/2010_001120.jpg\" width=\"210px\" /> <img src=\"http://0.0.0.0:5300/2010_005837.jpg\" width=\"210px\" /> <h4>Vintage</h4><img src=\"http://0.0.0.0:5300/2008_003580.jpg\" width=\"210px\" /> <img src=\"http://0.0.0.0:5300/2010_001433.jpg\" width=\"210px\" /> <img src=\"http://0.0.0.0:5300/2011_001259.jpg\" width=\"210px\" /> <img src=\"http://0.0.0.0:5300/2008_007839.jpg\" width=\"210px\" /> <img src=\"http://0.0.0.0:5300/2011_000834.jpg\" width=\"210px\" /> <h4>Horror</h4><img src=\"http://0.0.0.0:5300/2011_000320.jpg\" width=\"210px\" /> <img src=\"http://0.0.0.0:5300/2011_000548.jpg\" width=\"210px\" /> <img src=\"http://0.0.0.0:5300/2010_005968.jpg\" width=\"210px\" /> <img src=\"http://0.0.0.0:5300/2010_002436.jpg\" width=\"210px\" /> <img src=\"http://0.0.0.0:5300/2011_000068.jpg\" width=\"210px\" /> <h4>Bright,_Energetic</h4><img src=\"http://0.0.0.0:5300/2008_008544.jpg\" width=\"210px\" /> <img src=\"http://0.0.0.0:5300/2011_000017.jpg\" width=\"210px\" /> <img src=\"http://0.0.0.0:5300/2010_002614.jpg\" width=\"210px\" /> <img src=\"http://0.0.0.0:5300/2009_001801.jpg\" width=\"210px\" /> <img src=\"http://0.0.0.0:5300/2008_000678.jpg\" width=\"210px\" /> <h4>Serene</h4><img src=\"http://0.0.0.0:5300/2008_007870.jpg\" width=\"210px\" /> <img src=\"http://0.0.0.0:5300/2010_004948.jpg\" width=\"210px\" /> <img src=\"http://0.0.0.0:5300/2011_002767.jpg\" width=\"210px\" /> <img src=\"http://0.0.0.0:5300/2008_006667.jpg\" width=\"210px\" /> <img src=\"http://0.0.0.0:5300/2010_004420.jpg\" width=\"210px\" /> <h4>Macro</h4><img src=\"http://0.0.0.0:5300/2008_008595.jpg\" width=\"210px\" /> <img src=\"http://0.0.0.0:5300/2009_000790.jpg\" width=\"210px\" /> <img src=\"http://0.0.0.0:5300/2009_000103.jpg\" width=\"210px\" /> <img src=\"http://0.0.0.0:5300/2011_003091.jpg\" width=\"210px\" /> <img src=\"http://0.0.0.0:5300/2009_003640.jpg\" width=\"210px\" /> <h4>Surrealism</h4><img src=\"http://0.0.0.0:5300/2009_004713.jpg\" width=\"210px\" /> <img src=\"http://0.0.0.0:5300/2008_001770.jpg\" width=\"210px\" /> <img src=\"http://0.0.0.0:5300/2008_008384.jpg\" width=\"210px\" /> <img src=\"http://0.0.0.0:5300/2009_004765.jpg\" width=\"210px\" /> <img src=\"http://0.0.0.0:5300/2009_003417.jpg\" width=\"210px\" /> <h4>Expressionism</h4><img src=\"http://0.0.0.0:5300/2009_002153.jpg\" width=\"210px\" /> <img src=\"http://0.0.0.0:5300/2010_000103.jpg\" width=\"210px\" /> <img src=\"http://0.0.0.0:5300/2009_001242.jpg\" width=\"210px\" /> <img src=\"http://0.0.0.0:5300/2009_004723.jpg\" width=\"210px\" /> <img src=\"http://0.0.0.0:5300/2008_004296.jpg\" width=\"210px\" /> <h4>Impressionism</h4><img src=\"http://0.0.0.0:5300/2010_005053.jpg\" width=\"210px\" /> <img src=\"http://0.0.0.0:5300/2011_002464.jpg\" width=\"210px\" /> <img src=\"http://0.0.0.0:5300/2009_000904.jpg\" width=\"210px\" /> <img src=\"http://0.0.0.0:5300/2009_000812.jpg\" width=\"210px\" /> <img src=\"http://0.0.0.0:5300/2008_004103.jpg\" width=\"210px\" /> <h4>High_Renaissance</h4><img src=\"http://0.0.0.0:5300/2011_001134.jpg\" width=\"210px\" /> <img src=\"http://0.0.0.0:5300/2008_006881.jpg\" width=\"210px\" /> <img src=\"http://0.0.0.0:5300/2010_003135.jpg\" width=\"210px\" /> <img src=\"http://0.0.0.0:5300/2008_001810.jpg\" width=\"210px\" /> <img src=\"http://0.0.0.0:5300/2011_001558.jpg\" width=\"210px\" /> <h4>Cubism</h4><img src=\"http://0.0.0.0:5300/2009_003378.jpg\" width=\"210px\" /> <img src=\"http://0.0.0.0:5300/2009_004886.jpg\" width=\"210px\" /> <img src=\"http://0.0.0.0:5300/2009_003498.jpg\" width=\"210px\" /> <img src=\"http://0.0.0.0:5300/2008_004147.jpg\" width=\"210px\" /> <img src=\"http://0.0.0.0:5300/2008_008461.jpg\" width=\"210px\" /> <h4>Abstract_Art</h4><img src=\"http://0.0.0.0:5300/2010_005096.jpg\" width=\"210px\" /> <img src=\"http://0.0.0.0:5300/2009_001360.jpg\" width=\"210px\" /> <img src=\"http://0.0.0.0:5300/2011_002868.jpg\" width=\"210px\" /> <img src=\"http://0.0.0.0:5300/2010_004777.jpg\" width=\"210px\" /> <img src=\"http://0.0.0.0:5300/2009_002645.jpg\" width=\"210px\" /> <h4>Color_Field_Painting</h4><img src=\"http://0.0.0.0:5300/2008_008537.jpg\" width=\"210px\" /> <img src=\"http://0.0.0.0:5300/2011_000392.jpg\" width=\"210px\" /> <img src=\"http://0.0.0.0:5300/2010_002632.jpg\" width=\"210px\" /> <img src=\"http://0.0.0.0:5300/2008_008309.jpg\" width=\"210px\" /> <img src=\"http://0.0.0.0:5300/2009_001466.jpg\" width=\"210px\" />"
       ],
       "metadata": {},
       "output_type": "pyout",
       "prompt_number": 27,
       "text": [
        "<IPython.core.display.HTML at 0x1187e9d50>"
       ]
      }
     ],
     "prompt_number": 27
    },
    {
     "cell_type": "code",
     "collapsed": false,
     "input": [
      "## Cars"
     ],
     "language": "python",
     "metadata": {},
     "outputs": []
    },
    {
     "cell_type": "code",
     "collapsed": false,
     "input": [
      "top_k_for_styles(\n",
      "    df, df['class_car'],\n",
      "    ['Geometric_Composition', 'HDR', 'Noir', 'Romantic', 'Vintage', 'Horror', 'Bright,_Energetic', 'Serene', 'Macro',\n",
      "     'Surrealism', 'Expressionism', 'Impressionism', 'Romanticism', 'Color_Field_Painting', 'Ukiyo-e', 'High_Renaissance', 'Cubism', 'Abstract_Art']\n",
      ")"
     ],
     "language": "python",
     "metadata": {},
     "outputs": [
      {
       "html": [
        "<h4>Geometric_Composition</h4><img src=\"http://0.0.0.0:5300/2008_006936.jpg\" width=\"210px\" /> <img src=\"http://0.0.0.0:5300/2010_003854.jpg\" width=\"210px\" /> <img src=\"http://0.0.0.0:5300/2008_004307.jpg\" width=\"210px\" /> <img src=\"http://0.0.0.0:5300/2010_001163.jpg\" width=\"210px\" /> <img src=\"http://0.0.0.0:5300/2008_007034.jpg\" width=\"210px\" /> <h4>HDR</h4><img src=\"http://0.0.0.0:5300/2008_003691.jpg\" width=\"210px\" /> <img src=\"http://0.0.0.0:5300/2008_007918.jpg\" width=\"210px\" /> <img src=\"http://0.0.0.0:5300/2010_004747.jpg\" width=\"210px\" /> <img src=\"http://0.0.0.0:5300/2011_001406.jpg\" width=\"210px\" /> <img src=\"http://0.0.0.0:5300/2010_001043.jpg\" width=\"210px\" /> <h4>Noir</h4><img src=\"http://0.0.0.0:5300/2008_005472.jpg\" width=\"210px\" /> <img src=\"http://0.0.0.0:5300/2011_002106.jpg\" width=\"210px\" /> <img src=\"http://0.0.0.0:5300/2008_007103.jpg\" width=\"210px\" /> <img src=\"http://0.0.0.0:5300/2009_003138.jpg\" width=\"210px\" /> <img src=\"http://0.0.0.0:5300/2009_002621.jpg\" width=\"210px\" /> <h4>Romantic</h4><img src=\"http://0.0.0.0:5300/2009_001585.jpg\" width=\"210px\" /> <img src=\"http://0.0.0.0:5300/2008_002997.jpg\" width=\"210px\" /> <img src=\"http://0.0.0.0:5300/2008_002501.jpg\" width=\"210px\" /> <img src=\"http://0.0.0.0:5300/2011_002598.jpg\" width=\"210px\" /> <img src=\"http://0.0.0.0:5300/2008_000252.jpg\" width=\"210px\" /> <h4>Vintage</h4><img src=\"http://0.0.0.0:5300/2008_008050.jpg\" width=\"210px\" /> <img src=\"http://0.0.0.0:5300/2010_002507.jpg\" width=\"210px\" /> <img src=\"http://0.0.0.0:5300/2008_002857.jpg\" width=\"210px\" /> <img src=\"http://0.0.0.0:5300/2008_002891.jpg\" width=\"210px\" /> <img src=\"http://0.0.0.0:5300/2010_002844.jpg\" width=\"210px\" /> <h4>Horror</h4><img src=\"http://0.0.0.0:5300/2011_001799.jpg\" width=\"210px\" /> <img src=\"http://0.0.0.0:5300/2008_000085.jpg\" width=\"210px\" /> <img src=\"http://0.0.0.0:5300/2009_003722.jpg\" width=\"210px\" /> <img src=\"http://0.0.0.0:5300/2008_004288.jpg\" width=\"210px\" /> <img src=\"http://0.0.0.0:5300/2008_006275.jpg\" width=\"210px\" /> <h4>Bright,_Energetic</h4><img src=\"http://0.0.0.0:5300/2010_005432.jpg\" width=\"210px\" /> <img src=\"http://0.0.0.0:5300/2011_001062.jpg\" width=\"210px\" /> <img src=\"http://0.0.0.0:5300/2010_002363.jpg\" width=\"210px\" /> <img src=\"http://0.0.0.0:5300/2010_005457.jpg\" width=\"210px\" /> <img src=\"http://0.0.0.0:5300/2011_001535.jpg\" width=\"210px\" /> <h4>Serene</h4><img src=\"http://0.0.0.0:5300/2008_007227.jpg\" width=\"210px\" /> <img src=\"http://0.0.0.0:5300/2008_004923.jpg\" width=\"210px\" /> <img src=\"http://0.0.0.0:5300/2008_008086.jpg\" width=\"210px\" /> <img src=\"http://0.0.0.0:5300/2011_003073.jpg\" width=\"210px\" /> <img src=\"http://0.0.0.0:5300/2009_000904.jpg\" width=\"210px\" /> <h4>Macro</h4><img src=\"http://0.0.0.0:5300/2008_006017.jpg\" width=\"210px\" /> <img src=\"http://0.0.0.0:5300/2011_003019.jpg\" width=\"210px\" /> <img src=\"http://0.0.0.0:5300/2010_003123.jpg\" width=\"210px\" /> <img src=\"http://0.0.0.0:5300/2008_008050.jpg\" width=\"210px\" /> <img src=\"http://0.0.0.0:5300/2010_004533.jpg\" width=\"210px\" /> <h4>Surrealism</h4><img src=\"http://0.0.0.0:5300/2009_000882.jpg\" width=\"210px\" /> <img src=\"http://0.0.0.0:5300/2010_002578.jpg\" width=\"210px\" /> <img src=\"http://0.0.0.0:5300/2009_000777.jpg\" width=\"210px\" /> <img src=\"http://0.0.0.0:5300/2011_000701.jpg\" width=\"210px\" /> <img src=\"http://0.0.0.0:5300/2009_000726.jpg\" width=\"210px\" /> <h4>Expressionism</h4><img src=\"http://0.0.0.0:5300/2008_004678.jpg\" width=\"210px\" /> <img src=\"http://0.0.0.0:5300/2008_005234.jpg\" width=\"210px\" /> <img src=\"http://0.0.0.0:5300/2009_001861.jpg\" width=\"210px\" /> <img src=\"http://0.0.0.0:5300/2009_003255.jpg\" width=\"210px\" /> <img src=\"http://0.0.0.0:5300/2011_000560.jpg\" width=\"210px\" /> <h4>Impressionism</h4><img src=\"http://0.0.0.0:5300/2010_002457.jpg\" width=\"210px\" /> <img src=\"http://0.0.0.0:5300/2008_008086.jpg\" width=\"210px\" /> <img src=\"http://0.0.0.0:5300/2010_002194.jpg\" width=\"210px\" /> <img src=\"http://0.0.0.0:5300/2008_004862.jpg\" width=\"210px\" /> <img src=\"http://0.0.0.0:5300/2009_000165.jpg\" width=\"210px\" /> <h4>Romanticism</h4><img src=\"http://0.0.0.0:5300/2010_003219.jpg\" width=\"210px\" /> <img src=\"http://0.0.0.0:5300/2008_000174.jpg\" width=\"210px\" /> <img src=\"http://0.0.0.0:5300/2008_007163.jpg\" width=\"210px\" /> <img src=\"http://0.0.0.0:5300/2010_000493.jpg\" width=\"210px\" /> <img src=\"http://0.0.0.0:5300/2008_002442.jpg\" width=\"210px\" /> <h4>Color_Field_Painting</h4><img src=\"http://0.0.0.0:5300/2010_003481.jpg\" width=\"210px\" /> <img src=\"http://0.0.0.0:5300/2010_001413.jpg\" width=\"210px\" /> <img src=\"http://0.0.0.0:5300/2009_004872.jpg\" width=\"210px\" /> <img src=\"http://0.0.0.0:5300/2010_001966.jpg\" width=\"210px\" /> <img src=\"http://0.0.0.0:5300/2008_002437.jpg\" width=\"210px\" /> <h4>Ukiyo-e</h4><img src=\"http://0.0.0.0:5300/2010_001337.jpg\" width=\"210px\" /> <img src=\"http://0.0.0.0:5300/2008_001541.jpg\" width=\"210px\" /> <img src=\"http://0.0.0.0:5300/2008_001543.jpg\" width=\"210px\" /> <img src=\"http://0.0.0.0:5300/2010_001360.jpg\" width=\"210px\" /> <img src=\"http://0.0.0.0:5300/2010_001394.jpg\" width=\"210px\" /> <h4>High_Renaissance</h4><img src=\"http://0.0.0.0:5300/2010_001669.jpg\" width=\"210px\" /> <img src=\"http://0.0.0.0:5300/2010_000148.jpg\" width=\"210px\" /> <img src=\"http://0.0.0.0:5300/2008_001104.jpg\" width=\"210px\" /> <img src=\"http://0.0.0.0:5300/2009_001500.jpg\" width=\"210px\" /> <img src=\"http://0.0.0.0:5300/2008_001359.jpg\" width=\"210px\" /> <h4>Cubism</h4><img src=\"http://0.0.0.0:5300/2009_000402.jpg\" width=\"210px\" /> <img src=\"http://0.0.0.0:5300/2008_004668.jpg\" width=\"210px\" /> <img src=\"http://0.0.0.0:5300/2008_001018.jpg\" width=\"210px\" /> <img src=\"http://0.0.0.0:5300/2008_007295.jpg\" width=\"210px\" /> <img src=\"http://0.0.0.0:5300/2009_001481.jpg\" width=\"210px\" /> <h4>Abstract_Art</h4><img src=\"http://0.0.0.0:5300/2008_000199.jpg\" width=\"210px\" /> <img src=\"http://0.0.0.0:5300/2010_005075.jpg\" width=\"210px\" /> <img src=\"http://0.0.0.0:5300/2008_007138.jpg\" width=\"210px\" /> <img src=\"http://0.0.0.0:5300/2009_001240.jpg\" width=\"210px\" /> <img src=\"http://0.0.0.0:5300/2011_000432.jpg\" width=\"210px\" />"
       ],
       "metadata": {},
       "output_type": "pyout",
       "prompt_number": 30,
       "text": [
        "<IPython.core.display.HTML at 0x119be7790>"
       ]
      }
     ],
     "prompt_number": 30
    },
    {
     "cell_type": "markdown",
     "metadata": {},
     "source": [
      "## Cats\n"
     ]
    },
    {
     "cell_type": "code",
     "collapsed": false,
     "input": [
      "top_k_for_styles(\n",
      "    df, df['class_cat'],\n",
      "    ['Geometric_Composition', 'HDR', 'Noir', 'Romantic', 'Vintage', 'Horror', 'Bright,_Energetic', 'Serene', 'Macro',\n",
      "     'Surrealism', 'Expressionism', 'Impressionism', 'Romanticism', 'Color_Field_Painting', 'Ukiyo-e', 'High_Renaissance', 'Cubism', 'Abstract_Art']\n",
      ")"
     ],
     "language": "python",
     "metadata": {},
     "outputs": [
      {
       "html": [
        "<h4>Geometric_Composition</h4><img src=\"http://0.0.0.0:5300/2010_002662.jpg\" width=\"210px\" /> <img src=\"http://0.0.0.0:5300/2008_003557.jpg\" width=\"210px\" /> <img src=\"http://0.0.0.0:5300/2010_001737.jpg\" width=\"210px\" /> <img src=\"http://0.0.0.0:5300/2008_007164.jpg\" width=\"210px\" /> <img src=\"http://0.0.0.0:5300/2008_004736.jpg\" width=\"210px\" /> <h4>HDR</h4><img src=\"http://0.0.0.0:5300/2008_006629.jpg\" width=\"210px\" /> <img src=\"http://0.0.0.0:5300/2008_000056.jpg\" width=\"210px\" /> <img src=\"http://0.0.0.0:5300/2010_001089.jpg\" width=\"210px\" /> <img src=\"http://0.0.0.0:5300/2008_005770.jpg\" width=\"210px\" /> <img src=\"http://0.0.0.0:5300/2009_004971.jpg\" width=\"210px\" /> <h4>Noir</h4><img src=\"http://0.0.0.0:5300/2008_007494.jpg\" width=\"210px\" /> <img src=\"http://0.0.0.0:5300/2010_000468.jpg\" width=\"210px\" /> <img src=\"http://0.0.0.0:5300/2010_003675.jpg\" width=\"210px\" /> <img src=\"http://0.0.0.0:5300/2010_005238.jpg\" width=\"210px\" /> <img src=\"http://0.0.0.0:5300/2010_002026.jpg\" width=\"210px\" /> <h4>Romantic</h4><img src=\"http://0.0.0.0:5300/2008_007363.jpg\" width=\"210px\" /> <img src=\"http://0.0.0.0:5300/2010_002278.jpg\" width=\"210px\" /> <img src=\"http://0.0.0.0:5300/2008_002067.jpg\" width=\"210px\" /> <img src=\"http://0.0.0.0:5300/2008_007187.jpg\" width=\"210px\" /> <img src=\"http://0.0.0.0:5300/2010_005709.jpg\" width=\"210px\" /> <h4>Vintage</h4><img src=\"http://0.0.0.0:5300/2008_001111.jpg\" width=\"210px\" /> <img src=\"http://0.0.0.0:5300/2008_003228.jpg\" width=\"210px\" /> <img src=\"http://0.0.0.0:5300/2010_000536.jpg\" width=\"210px\" /> <img src=\"http://0.0.0.0:5300/2008_004120.jpg\" width=\"210px\" /> <img src=\"http://0.0.0.0:5300/2010_004712.jpg\" width=\"210px\" /> <h4>Horror</h4><img src=\"http://0.0.0.0:5300/2008_007630.jpg\" width=\"210px\" /> <img src=\"http://0.0.0.0:5300/2008_005777.jpg\" width=\"210px\" /> <img src=\"http://0.0.0.0:5300/2010_002763.jpg\" width=\"210px\" /> <img src=\"http://0.0.0.0:5300/2009_004073.jpg\" width=\"210px\" /> <img src=\"http://0.0.0.0:5300/2008_004856.jpg\" width=\"210px\" /> <h4>Bright,_Energetic</h4><img src=\"http://0.0.0.0:5300/2010_004141.jpg\" width=\"210px\" /> <img src=\"http://0.0.0.0:5300/2010_005344.jpg\" width=\"210px\" /> <img src=\"http://0.0.0.0:5300/2011_000345.jpg\" width=\"210px\" /> <img src=\"http://0.0.0.0:5300/2009_004176.jpg\" width=\"210px\" /> <img src=\"http://0.0.0.0:5300/2008_008590.jpg\" width=\"210px\" /> <h4>Serene</h4><img src=\"http://0.0.0.0:5300/2008_002681.jpg\" width=\"210px\" /> <img src=\"http://0.0.0.0:5300/2008_002682.jpg\" width=\"210px\" /> <img src=\"http://0.0.0.0:5300/2008_006347.jpg\" width=\"210px\" /> <img src=\"http://0.0.0.0:5300/2008_006753.jpg\" width=\"210px\" /> <img src=\"http://0.0.0.0:5300/2010_002710.jpg\" width=\"210px\" /> <h4>Macro</h4><img src=\"http://0.0.0.0:5300/2009_004382.jpg\" width=\"210px\" /> <img src=\"http://0.0.0.0:5300/2010_001587.jpg\" width=\"210px\" /> <img src=\"http://0.0.0.0:5300/2010_006078.jpg\" width=\"210px\" /> <img src=\"http://0.0.0.0:5300/2009_005160.jpg\" width=\"210px\" /> <img src=\"http://0.0.0.0:5300/2008_003244.jpg\" width=\"210px\" /> <h4>Surrealism</h4><img src=\"http://0.0.0.0:5300/2008_006099.jpg\" width=\"210px\" /> <img src=\"http://0.0.0.0:5300/2009_003601.jpg\" width=\"210px\" /> <img src=\"http://0.0.0.0:5300/2010_004320.jpg\" width=\"210px\" /> <img src=\"http://0.0.0.0:5300/2009_003867.jpg\" width=\"210px\" /> <img src=\"http://0.0.0.0:5300/2009_003698.jpg\" width=\"210px\" /> <h4>Expressionism</h4><img src=\"http://0.0.0.0:5300/2010_002479.jpg\" width=\"210px\" /> <img src=\"http://0.0.0.0:5300/2010_002965.jpg\" width=\"210px\" /> <img src=\"http://0.0.0.0:5300/2010_001499.jpg\" width=\"210px\" /> <img src=\"http://0.0.0.0:5300/2010_002831.jpg\" width=\"210px\" /> <img src=\"http://0.0.0.0:5300/2010_002392.jpg\" width=\"210px\" /> <h4>Impressionism</h4><img src=\"http://0.0.0.0:5300/2010_003337.jpg\" width=\"210px\" /> <img src=\"http://0.0.0.0:5300/2011_000973.jpg\" width=\"210px\" /> <img src=\"http://0.0.0.0:5300/2008_007640.jpg\" width=\"210px\" /> <img src=\"http://0.0.0.0:5300/2010_001647.jpg\" width=\"210px\" /> <img src=\"http://0.0.0.0:5300/2008_000345.jpg\" width=\"210px\" /> <h4>Romanticism</h4><img src=\"http://0.0.0.0:5300/2011_000973.jpg\" width=\"210px\" /> <img src=\"http://0.0.0.0:5300/2011_000165.jpg\" width=\"210px\" /> <img src=\"http://0.0.0.0:5300/2010_001660.jpg\" width=\"210px\" /> <img src=\"http://0.0.0.0:5300/2010_002204.jpg\" width=\"210px\" /> <img src=\"http://0.0.0.0:5300/2010_000872.jpg\" width=\"210px\" /> <h4>Color_Field_Painting</h4><img src=\"http://0.0.0.0:5300/2009_001562.jpg\" width=\"210px\" /> <img src=\"http://0.0.0.0:5300/2008_006520.jpg\" width=\"210px\" /> <img src=\"http://0.0.0.0:5300/2008_004232.jpg\" width=\"210px\" /> <img src=\"http://0.0.0.0:5300/2008_007404.jpg\" width=\"210px\" /> <img src=\"http://0.0.0.0:5300/2011_001173.jpg\" width=\"210px\" /> <h4>Ukiyo-e</h4><img src=\"http://0.0.0.0:5300/2008_006656.jpg\" width=\"210px\" /> <img src=\"http://0.0.0.0:5300/2010_000218.jpg\" width=\"210px\" /> <img src=\"http://0.0.0.0:5300/2011_002916.jpg\" width=\"210px\" /> <img src=\"http://0.0.0.0:5300/2008_000116.jpg\" width=\"210px\" /> <img src=\"http://0.0.0.0:5300/2010_000244.jpg\" width=\"210px\" /> <h4>High_Renaissance</h4><img src=\"http://0.0.0.0:5300/2009_002061.jpg\" width=\"210px\" /> <img src=\"http://0.0.0.0:5300/2010_005115.jpg\" width=\"210px\" /> <img src=\"http://0.0.0.0:5300/2010_002303.jpg\" width=\"210px\" /> <img src=\"http://0.0.0.0:5300/2010_005492.jpg\" width=\"210px\" /> <img src=\"http://0.0.0.0:5300/2010_000506.jpg\" width=\"210px\" /> <h4>Cubism</h4><img src=\"http://0.0.0.0:5300/2010_000109.jpg\" width=\"210px\" /> <img src=\"http://0.0.0.0:5300/2010_000552.jpg\" width=\"210px\" /> <img src=\"http://0.0.0.0:5300/2010_000536.jpg\" width=\"210px\" /> <img src=\"http://0.0.0.0:5300/2010_005508.jpg\" width=\"210px\" /> <img src=\"http://0.0.0.0:5300/2008_000536.jpg\" width=\"210px\" /> <h4>Abstract_Art</h4><img src=\"http://0.0.0.0:5300/2008_007085.jpg\" width=\"210px\" /> <img src=\"http://0.0.0.0:5300/2008_002845.jpg\" width=\"210px\" /> <img src=\"http://0.0.0.0:5300/2010_003133.jpg\" width=\"210px\" /> <img src=\"http://0.0.0.0:5300/2009_003697.jpg\" width=\"210px\" /> <img src=\"http://0.0.0.0:5300/2010_000576.jpg\" width=\"210px\" />"
       ],
       "metadata": {},
       "output_type": "pyout",
       "prompt_number": 28,
       "text": [
        "<IPython.core.display.HTML at 0x1187e97d0>"
       ]
      }
     ],
     "prompt_number": 28
    },
    {
     "cell_type": "markdown",
     "metadata": {},
     "source": [
      "## Trains"
     ]
    },
    {
     "cell_type": "code",
     "collapsed": false,
     "input": [
      "top_k_for_styles(\n",
      "    df, df['class_train'],\n",
      "    ['Geometric_Composition', 'HDR', 'Noir', 'Romantic', 'Vintage', 'Horror', 'Bright,_Energetic', 'Serene', 'Macro',\n",
      "     'Surrealism', 'Expressionism', 'Impressionism', 'Romanticism', 'Color_Field_Painting', 'Surrealism', 'High_Renaissance', 'Cubism', 'Abstract_Art']\n",
      ")"
     ],
     "language": "python",
     "metadata": {},
     "outputs": [
      {
       "html": [
        "<h4>Geometric_Composition</h4><img src=\"http://0.0.0.0:5300/2008_005389.jpg\" width=\"210px\" /> <img src=\"http://0.0.0.0:5300/2011_000398.jpg\" width=\"210px\" /> <img src=\"http://0.0.0.0:5300/2010_000534.jpg\" width=\"210px\" /> <img src=\"http://0.0.0.0:5300/2009_000177.jpg\" width=\"210px\" /> <img src=\"http://0.0.0.0:5300/2009_001350.jpg\" width=\"210px\" /> <h4>HDR</h4><img src=\"http://0.0.0.0:5300/2008_003826.jpg\" width=\"210px\" /> <img src=\"http://0.0.0.0:5300/2009_000283.jpg\" width=\"210px\" /> <img src=\"http://0.0.0.0:5300/2008_007521.jpg\" width=\"210px\" /> <img src=\"http://0.0.0.0:5300/2009_004977.jpg\" width=\"210px\" /> <img src=\"http://0.0.0.0:5300/2009_000476.jpg\" width=\"210px\" /> <h4>Noir</h4><img src=\"http://0.0.0.0:5300/2011_001217.jpg\" width=\"210px\" /> <img src=\"http://0.0.0.0:5300/2009_002887.jpg\" width=\"210px\" /> <img src=\"http://0.0.0.0:5300/2011_000521.jpg\" width=\"210px\" /> <img src=\"http://0.0.0.0:5300/2011_001655.jpg\" width=\"210px\" /> <img src=\"http://0.0.0.0:5300/2010_004168.jpg\" width=\"210px\" /> <h4>Romantic</h4><img src=\"http://0.0.0.0:5300/2010_004469.jpg\" width=\"210px\" /> <img src=\"http://0.0.0.0:5300/2010_005996.jpg\" width=\"210px\" /> <img src=\"http://0.0.0.0:5300/2010_004475.jpg\" width=\"210px\" /> <img src=\"http://0.0.0.0:5300/2008_008364.jpg\" width=\"210px\" /> <img src=\"http://0.0.0.0:5300/2011_000979.jpg\" width=\"210px\" /> <h4>Vintage</h4><img src=\"http://0.0.0.0:5300/2008_001164.jpg\" width=\"210px\" /> <img src=\"http://0.0.0.0:5300/2010_004313.jpg\" width=\"210px\" /> <img src=\"http://0.0.0.0:5300/2009_004766.jpg\" width=\"210px\" /> <img src=\"http://0.0.0.0:5300/2010_005996.jpg\" width=\"210px\" /> <img src=\"http://0.0.0.0:5300/2010_005463.jpg\" width=\"210px\" /> <h4>Horror</h4><img src=\"http://0.0.0.0:5300/2009_001042.jpg\" width=\"210px\" /> <img src=\"http://0.0.0.0:5300/2008_001105.jpg\" width=\"210px\" /> <img src=\"http://0.0.0.0:5300/2009_002616.jpg\" width=\"210px\" /> <img src=\"http://0.0.0.0:5300/2008_008697.jpg\" width=\"210px\" /> <img src=\"http://0.0.0.0:5300/2008_008690.jpg\" width=\"210px\" /> <h4>Bright,_Energetic</h4><img src=\"http://0.0.0.0:5300/2009_001735.jpg\" width=\"210px\" /> <img src=\"http://0.0.0.0:5300/2011_000858.jpg\" width=\"210px\" /> <img src=\"http://0.0.0.0:5300/2011_001381.jpg\" width=\"210px\" /> <img src=\"http://0.0.0.0:5300/2009_004371.jpg\" width=\"210px\" /> <img src=\"http://0.0.0.0:5300/2008_004214.jpg\" width=\"210px\" /> <h4>Serene</h4><img src=\"http://0.0.0.0:5300/2009_000476.jpg\" width=\"210px\" /> <img src=\"http://0.0.0.0:5300/2008_000190.jpg\" width=\"210px\" /> <img src=\"http://0.0.0.0:5300/2010_000581.jpg\" width=\"210px\" /> <img src=\"http://0.0.0.0:5300/2009_004956.jpg\" width=\"210px\" /> <img src=\"http://0.0.0.0:5300/2010_005816.jpg\" width=\"210px\" /> <h4>Macro</h4><img src=\"http://0.0.0.0:5300/2010_004192.jpg\" width=\"210px\" /> <img src=\"http://0.0.0.0:5300/2011_003260.jpg\" width=\"210px\" /> <img src=\"http://0.0.0.0:5300/2011_003228.jpg\" width=\"210px\" /> <img src=\"http://0.0.0.0:5300/2011_003197.jpg\" width=\"210px\" /> <img src=\"http://0.0.0.0:5300/2011_003187.jpg\" width=\"210px\" /> <h4>Surrealism</h4><img src=\"http://0.0.0.0:5300/2010_003335.jpg\" width=\"210px\" /> <img src=\"http://0.0.0.0:5300/2008_001710.jpg\" width=\"210px\" /> <img src=\"http://0.0.0.0:5300/2009_002887.jpg\" width=\"210px\" /> <img src=\"http://0.0.0.0:5300/2009_002867.jpg\" width=\"210px\" /> <img src=\"http://0.0.0.0:5300/2008_002158.jpg\" width=\"210px\" /> <h4>Expressionism</h4><img src=\"http://0.0.0.0:5300/2009_004406.jpg\" width=\"210px\" /> <img src=\"http://0.0.0.0:5300/2010_000199.jpg\" width=\"210px\" /> <img src=\"http://0.0.0.0:5300/2011_002987.jpg\" width=\"210px\" /> <img src=\"http://0.0.0.0:5300/2008_007999.jpg\" width=\"210px\" /> <img src=\"http://0.0.0.0:5300/2009_001802.jpg\" width=\"210px\" /> <h4>Impressionism</h4><img src=\"http://0.0.0.0:5300/2009_002009.jpg\" width=\"210px\" /> <img src=\"http://0.0.0.0:5300/2009_003054.jpg\" width=\"210px\" /> <img src=\"http://0.0.0.0:5300/2010_000581.jpg\" width=\"210px\" /> <img src=\"http://0.0.0.0:5300/2009_002938.jpg\" width=\"210px\" /> <img src=\"http://0.0.0.0:5300/2011_001082.jpg\" width=\"210px\" /> <h4>Romanticism</h4><img src=\"http://0.0.0.0:5300/2009_001802.jpg\" width=\"210px\" /> <img src=\"http://0.0.0.0:5300/2011_002516.jpg\" width=\"210px\" /> <img src=\"http://0.0.0.0:5300/2009_001007.jpg\" width=\"210px\" /> <img src=\"http://0.0.0.0:5300/2008_008739.jpg\" width=\"210px\" /> <img src=\"http://0.0.0.0:5300/2009_001291.jpg\" width=\"210px\" /> <h4>Color_Field_Painting</h4><img src=\"http://0.0.0.0:5300/2011_003149.jpg\" width=\"210px\" /> <img src=\"http://0.0.0.0:5300/2011_001152.jpg\" width=\"210px\" /> <img src=\"http://0.0.0.0:5300/2008_008583.jpg\" width=\"210px\" /> <img src=\"http://0.0.0.0:5300/2010_005506.jpg\" width=\"210px\" /> <img src=\"http://0.0.0.0:5300/2011_002841.jpg\" width=\"210px\" /> <h4>Surrealism</h4><img src=\"http://0.0.0.0:5300/2010_003335.jpg\" width=\"210px\" /> <img src=\"http://0.0.0.0:5300/2008_001710.jpg\" width=\"210px\" /> <img src=\"http://0.0.0.0:5300/2009_002887.jpg\" width=\"210px\" /> <img src=\"http://0.0.0.0:5300/2009_002867.jpg\" width=\"210px\" /> <img src=\"http://0.0.0.0:5300/2008_002158.jpg\" width=\"210px\" /> <h4>High_Renaissance</h4><img src=\"http://0.0.0.0:5300/2011_002987.jpg\" width=\"210px\" /> <img src=\"http://0.0.0.0:5300/2010_005996.jpg\" width=\"210px\" /> <img src=\"http://0.0.0.0:5300/2010_001586.jpg\" width=\"210px\" /> <img src=\"http://0.0.0.0:5300/2010_001941.jpg\" width=\"210px\" /> <img src=\"http://0.0.0.0:5300/2008_008751.jpg\" width=\"210px\" /> <h4>Cubism</h4><img src=\"http://0.0.0.0:5300/2008_008662.jpg\" width=\"210px\" /> <img src=\"http://0.0.0.0:5300/2009_004988.jpg\" width=\"210px\" /> <img src=\"http://0.0.0.0:5300/2008_000373.jpg\" width=\"210px\" /> <img src=\"http://0.0.0.0:5300/2009_001078.jpg\" width=\"210px\" /> <img src=\"http://0.0.0.0:5300/2011_000909.jpg\" width=\"210px\" /> <h4>Abstract_Art</h4><img src=\"http://0.0.0.0:5300/2008_006523.jpg\" width=\"210px\" /> <img src=\"http://0.0.0.0:5300/2010_003470.jpg\" width=\"210px\" /> <img src=\"http://0.0.0.0:5300/2009_002214.jpg\" width=\"210px\" /> <img src=\"http://0.0.0.0:5300/2008_007887.jpg\" width=\"210px\" /> <img src=\"http://0.0.0.0:5300/2009_001671.jpg\" width=\"210px\" />"
       ],
       "metadata": {},
       "output_type": "pyout",
       "prompt_number": 29,
       "text": [
        "<IPython.core.display.HTML at 0x119be7b90>"
       ]
      }
     ],
     "prompt_number": 29
    },
    {
     "cell_type": "markdown",
     "metadata": {},
     "source": [
      "## All Vehicles"
     ]
    },
    {
     "cell_type": "code",
     "collapsed": false,
     "input": [
      "top_k_for_styles(\n",
      "    df, df['metaclass_vehicle'],\n",
      "    ['Geometric_Composition', 'HDR', 'Noir', 'Romantic', 'Vintage', 'Horror', 'Bright,_Energetic', 'Serene', 'Macro',\n",
      "     'Surrealism', 'Expressionism', 'Impressionism', 'Romanticism', 'Color_Field_Painting', 'Ukiyo-e', 'High_Renaissance', 'Cubism', 'Abstract_Art']\n",
      ")"
     ],
     "language": "python",
     "metadata": {},
     "outputs": [
      {
       "html": [
        "<h4>Geometric_Composition</h4><img src=\"http://0.0.0.0:5300/2008_006936.jpg\" width=\"210px\" /> <img src=\"http://0.0.0.0:5300/2009_003644.jpg\" width=\"210px\" /> <img src=\"http://0.0.0.0:5300/2010_003854.jpg\" width=\"210px\" /> <img src=\"http://0.0.0.0:5300/2008_005389.jpg\" width=\"210px\" /> <img src=\"http://0.0.0.0:5300/2011_000398.jpg\" width=\"210px\" /> <h4>HDR</h4><img src=\"http://0.0.0.0:5300/2008_003826.jpg\" width=\"210px\" /> <img src=\"http://0.0.0.0:5300/2009_002512.jpg\" width=\"210px\" /> <img src=\"http://0.0.0.0:5300/2008_003691.jpg\" width=\"210px\" /> <img src=\"http://0.0.0.0:5300/2008_007918.jpg\" width=\"210px\" /> <img src=\"http://0.0.0.0:5300/2010_004747.jpg\" width=\"210px\" /> <h4>Noir</h4><img src=\"http://0.0.0.0:5300/2008_005472.jpg\" width=\"210px\" /> <img src=\"http://0.0.0.0:5300/2011_002106.jpg\" width=\"210px\" /> <img src=\"http://0.0.0.0:5300/2008_007103.jpg\" width=\"210px\" /> <img src=\"http://0.0.0.0:5300/2010_003855.jpg\" width=\"210px\" /> <img src=\"http://0.0.0.0:5300/2009_003138.jpg\" width=\"210px\" /> <h4>Romantic</h4><img src=\"http://0.0.0.0:5300/2009_001585.jpg\" width=\"210px\" /> <img src=\"http://0.0.0.0:5300/2008_002997.jpg\" width=\"210px\" /> <img src=\"http://0.0.0.0:5300/2011_002958.jpg\" width=\"210px\" /> <img src=\"http://0.0.0.0:5300/2010_000739.jpg\" width=\"210px\" /> <img src=\"http://0.0.0.0:5300/2008_002501.jpg\" width=\"210px\" /> <h4>Vintage</h4><img src=\"http://0.0.0.0:5300/2010_003801.jpg\" width=\"210px\" /> <img src=\"http://0.0.0.0:5300/2008_006345.jpg\" width=\"210px\" /> <img src=\"http://0.0.0.0:5300/2011_001216.jpg\" width=\"210px\" /> <img src=\"http://0.0.0.0:5300/2009_000897.jpg\" width=\"210px\" /> <img src=\"http://0.0.0.0:5300/2008_001842.jpg\" width=\"210px\" /> <h4>Horror</h4><img src=\"http://0.0.0.0:5300/2011_001799.jpg\" width=\"210px\" /> <img src=\"http://0.0.0.0:5300/2011_003027.jpg\" width=\"210px\" /> <img src=\"http://0.0.0.0:5300/2011_000651.jpg\" width=\"210px\" /> <img src=\"http://0.0.0.0:5300/2011_002093.jpg\" width=\"210px\" /> <img src=\"http://0.0.0.0:5300/2010_003745.jpg\" width=\"210px\" /> <h4>Bright,_Energetic</h4><img src=\"http://0.0.0.0:5300/2008_002701.jpg\" width=\"210px\" /> <img src=\"http://0.0.0.0:5300/2009_003598.jpg\" width=\"210px\" /> <img src=\"http://0.0.0.0:5300/2010_005100.jpg\" width=\"210px\" /> <img src=\"http://0.0.0.0:5300/2009_000233.jpg\" width=\"210px\" /> <img src=\"http://0.0.0.0:5300/2010_004143.jpg\" width=\"210px\" /> <h4>Serene</h4><img src=\"http://0.0.0.0:5300/2008_001858.jpg\" width=\"210px\" /> <img src=\"http://0.0.0.0:5300/2008_004593.jpg\" width=\"210px\" /> <img src=\"http://0.0.0.0:5300/2008_007227.jpg\" width=\"210px\" /> <img src=\"http://0.0.0.0:5300/2009_000476.jpg\" width=\"210px\" /> <img src=\"http://0.0.0.0:5300/2008_004923.jpg\" width=\"210px\" /> <h4>Macro</h4><img src=\"http://0.0.0.0:5300/2009_005189.jpg\" width=\"210px\" /> <img src=\"http://0.0.0.0:5300/2009_004626.jpg\" width=\"210px\" /> <img src=\"http://0.0.0.0:5300/2010_005974.jpg\" width=\"210px\" /> <img src=\"http://0.0.0.0:5300/2009_002914.jpg\" width=\"210px\" /> <img src=\"http://0.0.0.0:5300/2010_004404.jpg\" width=\"210px\" /> <h4>Surrealism</h4><img src=\"http://0.0.0.0:5300/2011_003177.jpg\" width=\"210px\" /> <img src=\"http://0.0.0.0:5300/2011_003148.jpg\" width=\"210px\" /> <img src=\"http://0.0.0.0:5300/2011_003121.jpg\" width=\"210px\" /> <img src=\"http://0.0.0.0:5300/2011_003059.jpg\" width=\"210px\" /> <img src=\"http://0.0.0.0:5300/2011_003027.jpg\" width=\"210px\" /> <h4>Expressionism</h4><img src=\"http://0.0.0.0:5300/2009_004797.jpg\" width=\"210px\" /> <img src=\"http://0.0.0.0:5300/2009_002240.jpg\" width=\"210px\" /> <img src=\"http://0.0.0.0:5300/2008_007966.jpg\" width=\"210px\" /> <img src=\"http://0.0.0.0:5300/2008_007265.jpg\" width=\"210px\" /> <img src=\"http://0.0.0.0:5300/2008_004678.jpg\" width=\"210px\" /> <h4>Impressionism</h4><img src=\"http://0.0.0.0:5300/2011_003132.jpg\" width=\"210px\" /> <img src=\"http://0.0.0.0:5300/2011_003115.jpg\" width=\"210px\" /> <img src=\"http://0.0.0.0:5300/2011_003081.jpg\" width=\"210px\" /> <img src=\"http://0.0.0.0:5300/2011_003073.jpg\" width=\"210px\" /> <img src=\"http://0.0.0.0:5300/2011_002738.jpg\" width=\"210px\" /> <h4>Romanticism</h4><img src=\"http://0.0.0.0:5300/2011_000052.jpg\" width=\"210px\" /> <img src=\"http://0.0.0.0:5300/2010_004809.jpg\" width=\"210px\" /> <img src=\"http://0.0.0.0:5300/2010_002393.jpg\" width=\"210px\" /> <img src=\"http://0.0.0.0:5300/2010_000729.jpg\" width=\"210px\" /> <img src=\"http://0.0.0.0:5300/2009_001770.jpg\" width=\"210px\" /> <h4>Color_Field_Painting</h4><img src=\"http://0.0.0.0:5300/2008_006249.jpg\" width=\"210px\" /> <img src=\"http://0.0.0.0:5300/2010_003592.jpg\" width=\"210px\" /> <img src=\"http://0.0.0.0:5300/2011_002993.jpg\" width=\"210px\" /> <img src=\"http://0.0.0.0:5300/2009_002448.jpg\" width=\"210px\" /> <img src=\"http://0.0.0.0:5300/2009_002591.jpg\" width=\"210px\" /> <h4>Ukiyo-e</h4><img src=\"http://0.0.0.0:5300/2011_003261.jpg\" width=\"210px\" /> <img src=\"http://0.0.0.0:5300/2011_003247.jpg\" width=\"210px\" /> <img src=\"http://0.0.0.0:5300/2011_003185.jpg\" width=\"210px\" /> <img src=\"http://0.0.0.0:5300/2011_003124.jpg\" width=\"210px\" /> <img src=\"http://0.0.0.0:5300/2011_003019.jpg\" width=\"210px\" /> <h4>High_Renaissance</h4><img src=\"http://0.0.0.0:5300/2011_002002.jpg\" width=\"210px\" /> <img src=\"http://0.0.0.0:5300/2010_001669.jpg\" width=\"210px\" /> <img src=\"http://0.0.0.0:5300/2010_000148.jpg\" width=\"210px\" /> <img src=\"http://0.0.0.0:5300/2009_004007.jpg\" width=\"210px\" /> <img src=\"http://0.0.0.0:5300/2009_003633.jpg\" width=\"210px\" /> <h4>Cubism</h4><img src=\"http://0.0.0.0:5300/2011_002107.jpg\" width=\"210px\" /> <img src=\"http://0.0.0.0:5300/2011_001641.jpg\" width=\"210px\" /> <img src=\"http://0.0.0.0:5300/2011_000969.jpg\" width=\"210px\" /> <img src=\"http://0.0.0.0:5300/2011_000933.jpg\" width=\"210px\" /> <img src=\"http://0.0.0.0:5300/2011_000098.jpg\" width=\"210px\" /> <h4>Abstract_Art</h4><img src=\"http://0.0.0.0:5300/2011_002751.jpg\" width=\"210px\" /> <img src=\"http://0.0.0.0:5300/2011_001949.jpg\" width=\"210px\" /> <img src=\"http://0.0.0.0:5300/2011_001945.jpg\" width=\"210px\" /> <img src=\"http://0.0.0.0:5300/2011_001663.jpg\" width=\"210px\" /> <img src=\"http://0.0.0.0:5300/2011_000845.jpg\" width=\"210px\" />"
       ],
       "metadata": {},
       "output_type": "pyout",
       "prompt_number": 107,
       "text": [
        "<IPython.core.display.HTML at 0xc0c7a50>"
       ]
      }
     ],
     "prompt_number": 107
    },
    {
     "cell_type": "markdown",
     "metadata": {},
     "source": [
      "## People"
     ]
    },
    {
     "cell_type": "code",
     "collapsed": false,
     "input": [
      "top_k_for_styles(\n",
      "    df, df['class_person'],\n",
      "    ['Geometric_Composition', 'HDR', 'Noir', 'Romantic', 'Vintage', 'Horror', 'Bright,_Energetic', 'Serene', 'Macro',\n",
      "     'Surrealism', 'Expressionism', 'Impressionism', 'Romanticism', 'Color_Field_Painting', 'Ukiyo-e', 'High_Renaissance', 'Cubism', 'Abstract_Art']\n",
      ")"
     ],
     "language": "python",
     "metadata": {},
     "outputs": [
      {
       "html": [
        "<h4>Geometric_Composition</h4><img src=\"http://0.0.0.0:5300/2010_003854.jpg\" width=\"210px\" /> <img src=\"http://0.0.0.0:5300/2008_005389.jpg\" width=\"210px\" /> <img src=\"http://0.0.0.0:5300/2011_000398.jpg\" width=\"210px\" /> <img src=\"http://0.0.0.0:5300/2010_000534.jpg\" width=\"210px\" /> <img src=\"http://0.0.0.0:5300/2008_000842.jpg\" width=\"210px\" /> <h4>HDR</h4><img src=\"http://0.0.0.0:5300/2009_002512.jpg\" width=\"210px\" /> <img src=\"http://0.0.0.0:5300/2008_007918.jpg\" width=\"210px\" /> <img src=\"http://0.0.0.0:5300/2008_004518.jpg\" width=\"210px\" /> <img src=\"http://0.0.0.0:5300/2011_001266.jpg\" width=\"210px\" /> <img src=\"http://0.0.0.0:5300/2011_001406.jpg\" width=\"210px\" /> <h4>Noir</h4><img src=\"http://0.0.0.0:5300/2010_004102.jpg\" width=\"210px\" /> <img src=\"http://0.0.0.0:5300/2010_003949.jpg\" width=\"210px\" /> <img src=\"http://0.0.0.0:5300/2008_005472.jpg\" width=\"210px\" /> <img src=\"http://0.0.0.0:5300/2010_004937.jpg\" width=\"210px\" /> <img src=\"http://0.0.0.0:5300/2008_003406.jpg\" width=\"210px\" /> <h4>Romantic</h4><img src=\"http://0.0.0.0:5300/2008_002404.jpg\" width=\"210px\" /> <img src=\"http://0.0.0.0:5300/2008_003915.jpg\" width=\"210px\" /> <img src=\"http://0.0.0.0:5300/2010_005349.jpg\" width=\"210px\" /> <img src=\"http://0.0.0.0:5300/2008_001122.jpg\" width=\"210px\" /> <img src=\"http://0.0.0.0:5300/2008_003608.jpg\" width=\"210px\" /> <h4>Vintage</h4><img src=\"http://0.0.0.0:5300/2008_002003.jpg\" width=\"210px\" /> <img src=\"http://0.0.0.0:5300/2008_001594.jpg\" width=\"210px\" /> <img src=\"http://0.0.0.0:5300/2009_000897.jpg\" width=\"210px\" /> <img src=\"http://0.0.0.0:5300/2008_001842.jpg\" width=\"210px\" /> <img src=\"http://0.0.0.0:5300/2008_008050.jpg\" width=\"210px\" /> <h4>Horror</h4><img src=\"http://0.0.0.0:5300/2008_000808.jpg\" width=\"210px\" /> <img src=\"http://0.0.0.0:5300/2009_001286.jpg\" width=\"210px\" /> <img src=\"http://0.0.0.0:5300/2008_005652.jpg\" width=\"210px\" /> <img src=\"http://0.0.0.0:5300/2010_004505.jpg\" width=\"210px\" /> <img src=\"http://0.0.0.0:5300/2010_004660.jpg\" width=\"210px\" /> <h4>Bright,_Energetic</h4><img src=\"http://0.0.0.0:5300/2009_003598.jpg\" width=\"210px\" /> <img src=\"http://0.0.0.0:5300/2010_004141.jpg\" width=\"210px\" /> <img src=\"http://0.0.0.0:5300/2008_007746.jpg\" width=\"210px\" /> <img src=\"http://0.0.0.0:5300/2008_001346.jpg\" width=\"210px\" /> <img src=\"http://0.0.0.0:5300/2009_005082.jpg\" width=\"210px\" /> <h4>Serene</h4><img src=\"http://0.0.0.0:5300/2008_001858.jpg\" width=\"210px\" /> <img src=\"http://0.0.0.0:5300/2009_000476.jpg\" width=\"210px\" /> <img src=\"http://0.0.0.0:5300/2010_001158.jpg\" width=\"210px\" /> <img src=\"http://0.0.0.0:5300/2009_001230.jpg\" width=\"210px\" /> <img src=\"http://0.0.0.0:5300/2009_000337.jpg\" width=\"210px\" /> <h4>Macro</h4><img src=\"http://0.0.0.0:5300/2010_004362.jpg\" width=\"210px\" /> <img src=\"http://0.0.0.0:5300/2008_003769.jpg\" width=\"210px\" /> <img src=\"http://0.0.0.0:5300/2010_005898.jpg\" width=\"210px\" /> <img src=\"http://0.0.0.0:5300/2010_004360.jpg\" width=\"210px\" /> <img src=\"http://0.0.0.0:5300/2008_000328.jpg\" width=\"210px\" /> <h4>Surrealism</h4><img src=\"http://0.0.0.0:5300/2011_002533.jpg\" width=\"210px\" /> <img src=\"http://0.0.0.0:5300/2011_002515.jpg\" width=\"210px\" /> <img src=\"http://0.0.0.0:5300/2011_002413.jpg\" width=\"210px\" /> <img src=\"http://0.0.0.0:5300/2011_002111.jpg\" width=\"210px\" /> <img src=\"http://0.0.0.0:5300/2011_002106.jpg\" width=\"210px\" /> <h4>Expressionism</h4><img src=\"http://0.0.0.0:5300/2010_003108.jpg\" width=\"210px\" /> <img src=\"http://0.0.0.0:5300/2009_002240.jpg\" width=\"210px\" /> <img src=\"http://0.0.0.0:5300/2008_007966.jpg\" width=\"210px\" /> <img src=\"http://0.0.0.0:5300/2008_004678.jpg\" width=\"210px\" /> <img src=\"http://0.0.0.0:5300/2009_004406.jpg\" width=\"210px\" /> <h4>Impressionism</h4><img src=\"http://0.0.0.0:5300/2011_003132.jpg\" width=\"210px\" /> <img src=\"http://0.0.0.0:5300/2011_003115.jpg\" width=\"210px\" /> <img src=\"http://0.0.0.0:5300/2011_003081.jpg\" width=\"210px\" /> <img src=\"http://0.0.0.0:5300/2011_003023.jpg\" width=\"210px\" /> <img src=\"http://0.0.0.0:5300/2011_002553.jpg\" width=\"210px\" /> <h4>Romanticism</h4><img src=\"http://0.0.0.0:5300/2011_000052.jpg\" width=\"210px\" /> <img src=\"http://0.0.0.0:5300/2010_004809.jpg\" width=\"210px\" /> <img src=\"http://0.0.0.0:5300/2008_008564.jpg\" width=\"210px\" /> <img src=\"http://0.0.0.0:5300/2008_006487.jpg\" width=\"210px\" /> <img src=\"http://0.0.0.0:5300/2008_005610.jpg\" width=\"210px\" /> <h4>Color_Field_Painting</h4><img src=\"http://0.0.0.0:5300/2010_002632.jpg\" width=\"210px\" /> <img src=\"http://0.0.0.0:5300/2010_001130.jpg\" width=\"210px\" /> <img src=\"http://0.0.0.0:5300/2008_005682.jpg\" width=\"210px\" /> <img src=\"http://0.0.0.0:5300/2009_004051.jpg\" width=\"210px\" /> <img src=\"http://0.0.0.0:5300/2010_001413.jpg\" width=\"210px\" /> <h4>Ukiyo-e</h4><img src=\"http://0.0.0.0:5300/2011_003261.jpg\" width=\"210px\" /> <img src=\"http://0.0.0.0:5300/2011_003247.jpg\" width=\"210px\" /> <img src=\"http://0.0.0.0:5300/2011_003242.jpg\" width=\"210px\" /> <img src=\"http://0.0.0.0:5300/2011_003185.jpg\" width=\"210px\" /> <img src=\"http://0.0.0.0:5300/2011_003019.jpg\" width=\"210px\" /> <h4>High_Renaissance</h4><img src=\"http://0.0.0.0:5300/2011_002940.jpg\" width=\"210px\" /> <img src=\"http://0.0.0.0:5300/2011_002803.jpg\" width=\"210px\" /> <img src=\"http://0.0.0.0:5300/2011_002639.jpg\" width=\"210px\" /> <img src=\"http://0.0.0.0:5300/2011_002200.jpg\" width=\"210px\" /> <img src=\"http://0.0.0.0:5300/2011_002002.jpg\" width=\"210px\" /> <h4>Cubism</h4><img src=\"http://0.0.0.0:5300/2011_002614.jpg\" width=\"210px\" /> <img src=\"http://0.0.0.0:5300/2011_002610.jpg\" width=\"210px\" /> <img src=\"http://0.0.0.0:5300/2011_002154.jpg\" width=\"210px\" /> <img src=\"http://0.0.0.0:5300/2011_002074.jpg\" width=\"210px\" /> <img src=\"http://0.0.0.0:5300/2011_001938.jpg\" width=\"210px\" /> <h4>Abstract_Art</h4><img src=\"http://0.0.0.0:5300/2011_002462.jpg\" width=\"210px\" /> <img src=\"http://0.0.0.0:5300/2011_001949.jpg\" width=\"210px\" /> <img src=\"http://0.0.0.0:5300/2011_001475.jpg\" width=\"210px\" /> <img src=\"http://0.0.0.0:5300/2010_004828.jpg\" width=\"210px\" /> <img src=\"http://0.0.0.0:5300/2010_004362.jpg\" width=\"210px\" />"
       ],
       "metadata": {},
       "output_type": "pyout",
       "prompt_number": 108,
       "text": [
        "<IPython.core.display.HTML at 0xc75ebd0>"
       ]
      }
     ],
     "prompt_number": 108
    }
   ],
   "metadata": {}
  }
 ]
}